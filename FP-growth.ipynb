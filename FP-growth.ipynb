{
 "cells": [
  {
   "cell_type": "markdown",
   "metadata": {},
   "source": [
    "#### 使用FP-growth算法来高效发现频繁项集\n",
    "- FP-growth将数据集存储在一个特定的称作FP（Frequent Pattern）树的结构之后发现频繁项集或者频繁项对，即常在一块出现的元素项的集合FP树。\n",
    "- FP-growth算法只需要对数据库进行两次扫描，而Apriori算法对于每个潜在的频繁项集都会扫描数据集判定给定模式是否频繁，因此FP-growth算法的速度要比Apriori快。\n",
    "- FP-growth算法的基本过程为：（1）构建FP树；（2）从FP树中挖掘频繁项集。\n",
    "- 优点：一般快于Apriori； 缺点：实现比较困难，在某些数据集上性能会下降。\n"
   ]
  },
  {
   "cell_type": "code",
   "execution_count": 2,
   "metadata": {},
   "outputs": [],
   "source": [
    "class treeNode:\n",
    "    def __init__(self,nameValue,numOccur,parentNode):\n",
    "        self.name = nameValue\n",
    "        self.count = numOccur\n",
    "        self.nodeLink = None    #nodeLink用于链接相似的元素项\n",
    "        self.parent = parentNode    #指向当前节点的父节点\n",
    "        self.children = {}\n",
    "        \n",
    "    def inc(self, numOccur):\n",
    "        '''\n",
    "        对count变量增加指定值\n",
    "        '''\n",
    "        self.count += numOccur\n",
    "        \n",
    "    def disp(self, ind =1):\n",
    "        '''\n",
    "        将树以文本形式显示\n",
    "        '''\n",
    "        print(' '*ind, self.name, ' ',self.count)\n",
    "        for child in self.children.values():\n",
    "            child.disp(ind+1)"
   ]
  },
  {
   "cell_type": "code",
   "execution_count": 3,
   "metadata": {},
   "outputs": [],
   "source": [
    "rootNode = treeNode('pyramid',9,None)\n",
    "rootNode.children['eye']=treeNode('eye',13,None)"
   ]
  },
  {
   "cell_type": "code",
   "execution_count": 4,
   "metadata": {},
   "outputs": [
    {
     "name": "stdout",
     "output_type": "stream",
     "text": [
      "  pyramid   9\n",
      "   eye   13\n"
     ]
    }
   ],
   "source": [
    "rootNode.disp()"
   ]
  },
  {
   "cell_type": "code",
   "execution_count": 5,
   "metadata": {},
   "outputs": [
    {
     "name": "stdout",
     "output_type": "stream",
     "text": [
      "  pyramid   9\n",
      "   eye   13\n",
      "   phoenix   3\n"
     ]
    }
   ],
   "source": [
    "rootNode.children['phoenix'] = treeNode('phoenix',3,None)\n",
    "rootNode.disp()"
   ]
  },
  {
   "cell_type": "code",
   "execution_count": 6,
   "metadata": {},
   "outputs": [],
   "source": [
    "def createTree(dataSet, minSup =1):\n",
    "    '''\n",
    "    使用数据集以及最小支持度作为参数构建FP树\n",
    "    '''\n",
    "    headerTable = {}\n",
    "    for trans in dataSet:   #第一次遍历数据集\n",
    "        for item in trans:    #统计每一个元素项出现的额度\n",
    "            headerTable[item] = headerTable.get(item,0) + dataSet[trans]\n",
    "    for k in list(headerTable.keys()):    #移除不满足最小支持度的元素项\n",
    "        if headerTable[k] < minSup:\n",
    "            del(headerTable[k]) \n",
    "    freqItemSet = set(headerTable.keys())\n",
    "    if len(freqItemSet) == 0: return None, None    #如果没有元素项满足要求，就退出\n",
    "    for k in headerTable:\n",
    "        headerTable[k] = [headerTable[k], None]\n",
    "    retTree = treeNode('Null Set', 1, None)\n",
    "    for tranSet, count in dataSet.items():    #第二次遍历数据集，根据全局频率对每个事物中的元素进行排序\n",
    "        localD = {}\n",
    "        for item in tranSet:\n",
    "            if item in freqItemSet:\n",
    "                localD[item] = headerTable[item][0]\n",
    "        if len(localD)>0:    #使用排序后的频率项集对树进行填充\n",
    "            orderedItems = [v[0] for v in sorted(localD.items(), key = lambda p: p[1], reverse = True)]\n",
    "            updateTree(orderedItems, retTree, headerTable, count)\n",
    "    return retTree, headerTable\n",
    "\n",
    "def updateTree(items, inTree, headerTable, count):\n",
    "    '''\n",
    "    使FP树生长\n",
    "    '''\n",
    "    if items[0] in inTree.children:    #测试事务中的第一个元素项是否作为子节点存在\n",
    "        inTree.children[items[0]].inc(count)    #若存在更新该元素项的计数\n",
    "    else:   #不存在，创建一个新的treeNode并将其作为一个子节点添加到树中\n",
    "        inTree.children[items[0]] = treeNode(items[0], count, inTree)\n",
    "        if headerTable[items[0]][1] == None: #头指针表也要更新以指向新的节点\n",
    "            headerTable[items[0]][1] = inTree.children[items[0]]\n",
    "        else:\n",
    "            updateHeader(headerTable[items[0]][1], inTree.children[items[0]])\n",
    "    if len(items) > 1:    #不断迭代调用自身，每次调用时会去掉列表中的第一个元素\n",
    "        updateTree(items[1::], inTree.children[items[0]], headerTable, count)\n",
    "        \n",
    "def updateHeader(nodeToTest, targetNode):   \n",
    "    '''\n",
    "    确保节点链接指向树中该元素项的每一个实例\n",
    "    '''\n",
    "    while (nodeToTest.nodeLink != None):    \n",
    "        nodeToTest = nodeToTest.nodeLink\n",
    "    nodeToTest.nodeLink = targetNode"
   ]
  },
  {
   "cell_type": "code",
   "execution_count": 7,
   "metadata": {},
   "outputs": [],
   "source": [
    "def loadSimpDat():\n",
    "    '''\n",
    "    返回一个事务列表\n",
    "    '''\n",
    "    simpDat = [['r', 'z', 'h', 'j', 'p'],\n",
    "               ['z', 'y', 'x', 'w', 'v', 'u', 't', 's'],\n",
    "               ['z'],\n",
    "               ['r', 'x', 'n', 'o', 's'],\n",
    "               ['y', 'r', 'x', 'z', 'q', 't', 'p'],\n",
    "               ['y', 'z', 'x', 'e', 'q', 's', 't', 'm']]\n",
    "    return simpDat\n",
    "\n",
    "def createInitSet(dataSet):\n",
    "    '''\n",
    "    实现从列表到字典的类型转换过程\n",
    "    '''\n",
    "    retDict = {}\n",
    "    for trans in dataSet:\n",
    "        retDict[frozenset(trans)] = 1\n",
    "    return retDict"
   ]
  },
  {
   "cell_type": "code",
   "execution_count": 8,
   "metadata": {},
   "outputs": [
    {
     "data": {
      "text/plain": [
       "[['r', 'z', 'h', 'j', 'p'],\n",
       " ['z', 'y', 'x', 'w', 'v', 'u', 't', 's'],\n",
       " ['z'],\n",
       " ['r', 'x', 'n', 'o', 's'],\n",
       " ['y', 'r', 'x', 'z', 'q', 't', 'p'],\n",
       " ['y', 'z', 'x', 'e', 'q', 's', 't', 'm']]"
      ]
     },
     "execution_count": 8,
     "metadata": {},
     "output_type": "execute_result"
    }
   ],
   "source": [
    "simpDat = loadSimpDat()\n",
    "simpDat"
   ]
  },
  {
   "cell_type": "code",
   "execution_count": 9,
   "metadata": {},
   "outputs": [
    {
     "data": {
      "text/plain": [
       "{frozenset({'h', 'j', 'p', 'r', 'z'}): 1,\n",
       " frozenset({'s', 't', 'u', 'v', 'w', 'x', 'y', 'z'}): 1,\n",
       " frozenset({'z'}): 1,\n",
       " frozenset({'n', 'o', 'r', 's', 'x'}): 1,\n",
       " frozenset({'p', 'q', 'r', 't', 'x', 'y', 'z'}): 1,\n",
       " frozenset({'e', 'm', 'q', 's', 't', 'x', 'y', 'z'}): 1}"
      ]
     },
     "execution_count": 9,
     "metadata": {},
     "output_type": "execute_result"
    }
   ],
   "source": [
    "initSet = createInitSet(simpDat)\n",
    "initSet"
   ]
  },
  {
   "cell_type": "code",
   "execution_count": 10,
   "metadata": {},
   "outputs": [
    {
     "name": "stdout",
     "output_type": "stream",
     "text": [
      "  Null Set   1\n",
      "   z   5\n",
      "    r   1\n",
      "    x   3\n",
      "     y   3\n",
      "      t   1\n",
      "       s   1\n",
      "      r   1\n",
      "       t   1\n",
      "      s   1\n",
      "       t   1\n",
      "   x   1\n",
      "    r   1\n",
      "     s   1\n"
     ]
    }
   ],
   "source": [
    "myFPtree, myHeaderTab = createTree(initSet, 3)\n",
    "myFPtree.disp()"
   ]
  },
  {
   "cell_type": "markdown",
   "metadata": {
    "collapsed": true
   },
   "source": [
    "#### 从一棵FP树中挖掘频繁项集的三个步骤：\n",
    "- step1：从FP树中获得条件模式基；\n",
    "- step2：利用条件模式基，构建一个条件FP树；\n",
    "- step3：迭代重复步骤（1）和步骤（2），直到树包含一个元素项为止。\n",
    "- 对于每一个元素项，获得其对应的条件模式基（conditional pattern base）。条件模式基是以所查元素项为结尾的路径集合。每一条路径其实都是一条前缀路径。简而言之，一条前缀路径是介于所查找元素项与树根节点之间的所有内容。"
   ]
  },
  {
   "cell_type": "code",
   "execution_count": 11,
   "metadata": {},
   "outputs": [],
   "source": [
    "def ascendTree(leafNode, prefixPath): \n",
    "    '''\n",
    "    上溯FP树，收集遇到的所有元素项的名称\n",
    "    '''\n",
    "    if leafNode.parent != None:\n",
    "        prefixPath.append(leafNode.name)\n",
    "        ascendTree(leafNode.parent, prefixPath)\n",
    "    \n",
    "def findPrefixPath(basePat, treeNode): \n",
    "    '''\n",
    "    为给定元素项生成一个条件模式基\n",
    "    '''\n",
    "    condPats = {}    #条件模式基字典\n",
    "    while treeNode != None:\n",
    "        prefixPath = []\n",
    "        ascendTree(treeNode, prefixPath)\n",
    "        if len(prefixPath) > 1: \n",
    "            condPats[frozenset(prefixPath[1:])] = treeNode.count\n",
    "        treeNode = treeNode.nodeLink\n",
    "    return condPats"
   ]
  },
  {
   "cell_type": "code",
   "execution_count": 12,
   "metadata": {},
   "outputs": [
    {
     "data": {
      "text/plain": [
       "{frozenset({'z'}): 3}"
      ]
     },
     "execution_count": 12,
     "metadata": {},
     "output_type": "execute_result"
    }
   ],
   "source": [
    "findPrefixPath('x', myHeaderTab['x'][1])"
   ]
  },
  {
   "cell_type": "code",
   "execution_count": 13,
   "metadata": {},
   "outputs": [
    {
     "data": {
      "text/plain": [
       "{}"
      ]
     },
     "execution_count": 13,
     "metadata": {},
     "output_type": "execute_result"
    }
   ],
   "source": [
    "findPrefixPath('z', myHeaderTab['z'][1])"
   ]
  },
  {
   "cell_type": "code",
   "execution_count": 14,
   "metadata": {},
   "outputs": [
    {
     "data": {
      "text/plain": [
       "{frozenset({'z'}): 1, frozenset({'x'}): 1, frozenset({'x', 'y', 'z'}): 1}"
      ]
     },
     "execution_count": 14,
     "metadata": {},
     "output_type": "execute_result"
    }
   ],
   "source": [
    "findPrefixPath('r', myHeaderTab['r'][1])"
   ]
  },
  {
   "cell_type": "code",
   "execution_count": 15,
   "metadata": {},
   "outputs": [],
   "source": [
    "def mineTree(inTree, headerTable, minSup, preFix, freqItemList):\n",
    "    '''\n",
    "    递归查找频繁项集\n",
    "    '''\n",
    "    bigL = [v[0] for v in sorted(headerTable.items(), key=lambda p: p[0])]   #默认从小到大排序\n",
    "    for basePat in bigL:   #从头指针表的底端开始\n",
    "        newFreqSet = preFix.copy()\n",
    "        newFreqSet.add(basePat)\n",
    "        freqItemList.append(newFreqSet)  #将每一个频繁项添加到频繁项集列表\n",
    "        condPattBases = findPrefixPath(basePat, headerTable[basePat][1])\n",
    "        myCondTree, myHead = createTree(condPattBases, minSup)\n",
    "        if myHead != None: #如果树中又元素项的话，调用mineTree()\n",
    "            print('conditional tree for: ',newFreqSet)\n",
    "            myCondTree.disp(1)            \n",
    "            mineTree(myCondTree, myHead, minSup, newFreqSet, freqItemList)"
   ]
  },
  {
   "cell_type": "code",
   "execution_count": 16,
   "metadata": {},
   "outputs": [],
   "source": [
    "freqItems =[]"
   ]
  },
  {
   "cell_type": "code",
   "execution_count": 17,
   "metadata": {},
   "outputs": [
    {
     "name": "stdout",
     "output_type": "stream",
     "text": [
      "conditional tree for:  {'s'}\n",
      "  Null Set   1\n",
      "   x   3\n",
      "conditional tree for:  {'t'}\n",
      "  Null Set   1\n",
      "   y   3\n",
      "    x   3\n",
      "     z   3\n",
      "conditional tree for:  {'t', 'x'}\n",
      "  Null Set   1\n",
      "   y   3\n",
      "conditional tree for:  {'t', 'z'}\n",
      "  Null Set   1\n",
      "   x   3\n",
      "    y   3\n",
      "conditional tree for:  {'t', 'z', 'y'}\n",
      "  Null Set   1\n",
      "   x   3\n",
      "conditional tree for:  {'x'}\n",
      "  Null Set   1\n",
      "   z   3\n",
      "conditional tree for:  {'y'}\n",
      "  Null Set   1\n",
      "   x   3\n",
      "    z   3\n",
      "conditional tree for:  {'y', 'z'}\n",
      "  Null Set   1\n",
      "   x   3\n"
     ]
    }
   ],
   "source": [
    "mineTree(myFPtree, myHeaderTab, 3, set([]), freqItems)"
   ]
  },
  {
   "cell_type": "markdown",
   "metadata": {},
   "source": [
    "#### 示例：从新闻网站点击流中挖掘"
   ]
  },
  {
   "cell_type": "code",
   "execution_count": 18,
   "metadata": {},
   "outputs": [],
   "source": [
    "parseDat = [line.split() for line in open('data/kosarak.dat').readlines()]"
   ]
  },
  {
   "cell_type": "code",
   "execution_count": 19,
   "metadata": {},
   "outputs": [
    {
     "name": "stdout",
     "output_type": "stream",
     "text": [
      "  Null Set   1\n",
      "   3   76514\n",
      "    1   12917\n",
      "   1   16829\n",
      "   6   412762\n",
      "    11   261773\n",
      "     3   117401\n",
      "      1   34141\n",
      "     1   43366\n",
      "    3   68888\n",
      "     1   13436\n",
      "    1   16461\n",
      "   11   21190\n",
      "    3   9718\n",
      "     1   1565\n",
      "    1   1882\n"
     ]
    }
   ],
   "source": [
    "initSet = createInitSet(parseDat)\n",
    "myFPtree, myHeaderTab = createTree(initSet, 100000)\n",
    "myFPtree.disp()"
   ]
  },
  {
   "cell_type": "code",
   "execution_count": 20,
   "metadata": {},
   "outputs": [
    {
     "name": "stdout",
     "output_type": "stream",
     "text": [
      "conditional tree for:  {'1'}\n",
      "  Null Set   1\n",
      "   6   107404\n",
      "conditional tree for:  {'11'}\n",
      "  Null Set   1\n",
      "   6   261773\n",
      "conditional tree for:  {'3'}\n",
      "  Null Set   1\n",
      "   6   186289\n",
      "    11   117401\n",
      "   11   9718\n",
      "conditional tree for:  {'11', '3'}\n",
      "  Null Set   1\n",
      "   6   117401\n"
     ]
    }
   ],
   "source": [
    "myFreqList = []\n",
    "mineTree(myFPtree, myHeaderTab, 100000, set([]), myFreqList)"
   ]
  },
  {
   "cell_type": "code",
   "execution_count": 21,
   "metadata": {},
   "outputs": [
    {
     "data": {
      "text/plain": [
       "9"
      ]
     },
     "execution_count": 21,
     "metadata": {},
     "output_type": "execute_result"
    }
   ],
   "source": [
    "len(myFreqList)"
   ]
  },
  {
   "cell_type": "code",
   "execution_count": 22,
   "metadata": {},
   "outputs": [
    {
     "data": {
      "text/plain": [
       "[{'1'},\n",
       " {'1', '6'},\n",
       " {'11'},\n",
       " {'11', '6'},\n",
       " {'3'},\n",
       " {'11', '3'},\n",
       " {'11', '3', '6'},\n",
       " {'3', '6'},\n",
       " {'6'}]"
      ]
     },
     "execution_count": 22,
     "metadata": {},
     "output_type": "execute_result"
    }
   ],
   "source": [
    "myFreqList"
   ]
  }
 ],
 "metadata": {
  "kernelspec": {
   "display_name": "Python 3",
   "language": "python",
   "name": "python3"
  },
  "language_info": {
   "codemirror_mode": {
    "name": "ipython",
    "version": 3
   },
   "file_extension": ".py",
   "mimetype": "text/x-python",
   "name": "python",
   "nbconvert_exporter": "python",
   "pygments_lexer": "ipython3",
   "version": "3.6.5"
  }
 },
 "nbformat": 4,
 "nbformat_minor": 2
}
