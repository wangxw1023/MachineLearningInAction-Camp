{
 "cells": [
  {
   "cell_type": "markdown",
   "metadata": {},
   "source": [
    "### 信息增益的定义"
   ]
  },
  {
   "cell_type": "markdown",
   "metadata": {},
   "source": [
    "特征$A$对训练集$D$的信息增益$g(D,A)$，定义为集合$D$的经验熵$H(D)$与特征$A$给定条件下$D$的经验条件熵$H(D|A)$之差，即  \n",
    "               $$g(D,A) = H(D) - H(D|A)$$"
   ]
  },
  {
   "cell_type": "markdown",
   "metadata": {},
   "source": [
    "### 信息增益的算法流程"
   ]
  },
  {
   "cell_type": "markdown",
   "metadata": {},
   "source": [
    "设训练数据集为$D$，$|D|$表示其样本容量，即样本个数。设有$K$个类$C_k$，$k=1,2,…,K$，$|C_k|$为属于类$C_k$的样本个数，$\\sum_{k=1}^K|C_k|=|D|$。\n",
    "设特征$A$有$n$个不同的取值${a_1,a_2,…,a_n}$，根据特征$A$的取值将$D$划分为$n$个子集$D_1,D_2,…,D_n$，$|D_i|$为$D_i$的样本个数，$\\sum_{i=1}^n|D_i|=|D|$。  \n",
    "记子集$D_i$中属于类$C_k$的样本的集合为$D_ik$，即$D_{ik}=D_i\\bigcap C_k$，$|D_{ik}|$为$D_{ik}$的样本个数，于是信息增益的算法如下：  \n",
    "输入：训练数据集$D$和特征$A$；  \n",
    "输出：特征$A$对训练数据集$D$的信息增益$g(D,A)$。  \n",
    "（1）计算数据集$D$的经验熵$H(D)$   \n",
    "$$H(D) = -\\sum_{k=1}^K\\frac{|C_k|}{|D|}log_2\\frac{|C_k|}{|D|}$$\n",
    "（2）计算特征$A$对数据集$D$的经验条件熵$H(D|A)$\n",
    "$$H(D|A) = \\sum_{i=1}^n\\frac{|D_i|}{|D|}H(D_i)=-\\sum_{i=1}^n\\frac{|D_i|}{|D|}\\sum_{k=1}^K\\frac{|D_{ik}|}{|D_i|}log_2\\frac{|D_{ik}|}{|D_i|}$$\n",
    "（3）计算信息增益\n",
    "$$g(D,A) = H(D) - H(D|A)$$\n"
   ]
  },
  {
   "cell_type": "markdown",
   "metadata": {},
   "source": [
    "### 作业：在构建一个决策树模型时，我们对某个属性分割节点，四张图中，哪个属性对应的信息增益最大？"
   ]
  },
  {
   "cell_type": "markdown",
   "metadata": {},
   "source": [
    "![title](img/info.png)"
   ]
  },
  {
   "cell_type": "markdown",
   "metadata": {},
   "source": [
    "首先，由于四张图中，只给出了按属性分割后的结果，难以获得原始数据集，故没有通过代码来实现。   \n",
    "通过四张图可以获得的信息有：数据集$D$的样本个数为14，分两类，‘yes’类的样本个数为9，‘no’类的样本个数为5；  \n",
    "包含了四个特征：outlook、humidity、windy、temperature，分别以$A_1$、$A_2$、$A_3$、$A_4$表示。\n",
    "首先计算数据集$D$的经验熵$H(D)$：\n",
    "$$H(D)=-\\frac{9}{14}log_2\\frac{9}{14}-\\frac{5}{14}log_2\\frac{5}{14} =0.94 $$\n",
    "然后计算各特征对数据集$D$的信息增益，则  \n",
    "（1）outlook  \n",
    "$g(D,A_1)=H(D)-[\\frac{5}{14}H(D_1)+\\frac{4}{14}H(D_2)+\\frac{5}{14}H(D_3)]$  \n",
    "$=0.94-[\\frac{5}{14}(-\\frac{2}{5}log_2\\frac{2}{5}-\\frac{3}{5}log_2\\frac{3}{5})+\\frac{4}{14}(-\\frac{5}{5}log_2\\frac{5}{5})+\\frac{5}{14}(-\\frac{3}{5}log_2\\frac{3}{5}-\\frac{2}{5}log_2\\frac{2}{5})]$\n",
    "$=0.94-0.694=0.246$  \n",
    "  \n",
    "（2）humidity  \n",
    "$g(D,A_2)=H(D)-[\\frac{7}{14}H(D_1)+\\frac{7}{14}H(D_2)]$  \n",
    "$=0.94-[\\frac{7}{14}(-\\frac{3}{7}log_2\\frac{3}{7}-\\frac{4}{7}log_2\\frac{4}{7})+\\frac{7}{14}(-\\frac{6}{7}log_2\\frac{6}{7}-\\frac{1}{7}log_2\\frac{1}{7})]$\n",
    "$=0.94-0.7885=0.152$  \n",
    "  \n",
    "（3）windy   \n",
    "$g(D,A_3)=H(D)-[\\frac{8}{14}H(D_1)+\\frac{6}{14}H(D_2)]$  \n",
    "$=0.94-[\\frac{8}{14}(-\\frac{6}{8}log_2\\frac{6}{8}-\\frac{2}{8}log_2\\frac{2}{8})+\\frac{6}{14}(-\\frac{3}{6}log_2\\frac{3}{6}-\\frac{3}{6}log_2\\frac{3}{6})]$\n",
    "$=0.94-0.892=0.048$  \n",
    "  \n",
    "（4）temperature  \n",
    "$g(D,A_4)=H(D)-[\\frac{4}{14}H(D_1)+\\frac{6}{14}H(D_2)+\\frac{4}{14}H(D_3)]$  \n",
    "$=0.94-[\\frac{4}{14}(-\\frac{2}{4}log_2\\frac{2}{4}-\\frac{2}{4}log_2\\frac{2}{4})+\\frac{6}{14}(-\\frac{4}{6}log_2\\frac{4}{6}-\\frac{2}{6}log_2\\frac{2}{6})+\\frac{4}{14}(-\\frac{3}{4}log_2\\frac{3}{4}-\\frac{1}{4}log_2\\frac{1}{4})]$\n",
    "$=0.94-0.9115=0.028$    \n",
    "综上可得：outlook属性对应的信息增益最大。"
   ]
  }
 ],
 "metadata": {
  "kernelspec": {
   "display_name": "Python 3",
   "language": "python",
   "name": "python3"
  },
  "language_info": {
   "codemirror_mode": {
    "name": "ipython",
    "version": 3
   },
   "file_extension": ".py",
   "mimetype": "text/x-python",
   "name": "python",
   "nbconvert_exporter": "python",
   "pygments_lexer": "ipython3",
   "version": "3.6.5"
  }
 },
 "nbformat": 4,
 "nbformat_minor": 2
}
