{
 "cells": [
  {
   "cell_type": "markdown",
   "metadata": {},
   "source": [
    "## 示例：使用k-近邻算法改进约会网站的配对效果"
   ]
  },
  {
   "cell_type": "code",
   "execution_count": 35,
   "metadata": {},
   "outputs": [],
   "source": [
    "#导入程序锁需要的模块\n",
    "import numpy as np\n",
    "import operator"
   ]
  },
  {
   "cell_type": "markdown",
   "metadata": {},
   "source": [
    "### 将文本记录转换Numpy的解析程序："
   ]
  },
  {
   "cell_type": "code",
   "execution_count": 36,
   "metadata": {},
   "outputs": [],
   "source": [
    "\"\"\"\n",
    "函数说明:打开并解析文件，对数据进行分类：1代表不喜欢,2代表魅力一般,3代表极具魅力\n",
    "\n",
    "Parameters:\n",
    "    filename - 文件名\n",
    "Returns:\n",
    "    returnMat - 特征矩阵\n",
    "    classLabelVector - 分类Label向量\n",
    "Modify:\n",
    "    2018-10-01\n",
    "\"\"\"\n",
    "def file2matrix(filename):\n",
    "    # 打开文件\n",
    "    fr = open(filename)\n",
    "    # 读取文件所有内容\n",
    "    arrayOLines = fr.readlines()\n",
    "    # 得到文件行数\n",
    "    numberOLines = len(arrayOLines)\n",
    "    # 返回的NumPy矩阵,解析完成的数据:numberOfLines行,3列\n",
    "    returnMat = np.zeros((numberOLines,3))\n",
    "    # 返回的分类标签向量\n",
    "    classLabelVector = []\n",
    "    # 行的索引值\n",
    "    index = 0\n",
    "    for line in arrayOLines:\n",
    "        # s.strip(rm)，当rm空时,默认删除空白符(包括'\\n','\\r','\\t',' ')\n",
    "        line = line.strip()\n",
    "        # 使用s.split(str=\"\",num=string,cout(str))将字符串根据'\\t'分隔符进行切片。\n",
    "        listFromLine = line.split('\\t')\n",
    "        # 将数据前三列提取出来,存放到returnMat的NumPy矩阵中,也就是特征矩阵\n",
    "        returnMat[index,:] = listFromLine[0:3]\n",
    "        #根据文本中标记的喜欢的程度进行分类,1代表不喜欢,2代表魅力一般,3代表极具魅力\n",
    "        if listFromLine[-1] == 'didntLike':\n",
    "            classLabelVector.append(1)\n",
    "        elif listFromLine[-1] == 'smallDoses':\n",
    "            classLabelVector.append(2)\n",
    "        elif listFromLine[-1] == 'largeDoses':\n",
    "            classLabelVector.append(3)\n",
    "        index += 1\n",
    "    return returnMat,classLabelVector\n",
    "    "
   ]
  },
  {
   "cell_type": "markdown",
   "metadata": {},
   "source": [
    "### 数据可视化"
   ]
  },
  {
   "cell_type": "code",
   "execution_count": 37,
   "metadata": {},
   "outputs": [],
   "source": [
    "\"\"\"\n",
    "函数说明:可视化数据\n",
    "\n",
    "Parameters:\n",
    "    datingDataMat - 特征矩阵\n",
    "    datingLabels - 分类Label\n",
    "Returns:\n",
    "    无\n",
    "Modify:\n",
    "    2018-10-01\n",
    "\"\"\"\n",
    "def showdatas(datingDataMat, datingLabels):\n",
    "    #设置汉字格式\n",
    "    font = FontProperties(fname=r\"c:\\windows\\fonts\\simsun.ttc\", size=14)\n",
    "    #将fig画布分隔成1行1列,不共享x轴和y轴,fig画布的大小为(13,8)\n",
    "    #当nrow=2,nclos=2时,代表fig画布被分为四个区域,axs[0][0]表示第一行第一个区域\n",
    "    fig, axs = plt.subplots(nrows=2, ncols=2,sharex=False, sharey=False, figsize=(13,8))\n",
    "\n",
    "    numberOfLabels = len(datingLabels)\n",
    "    LabelsColors = []\n",
    "    for i in datingLabels:\n",
    "        if i == 1:\n",
    "            LabelsColors.append('black')\n",
    "        if i == 2:\n",
    "            LabelsColors.append('orange')\n",
    "        if i == 3:\n",
    "            LabelsColors.append('red')\n",
    "    #画出散点图,以datingDataMat矩阵的第一(飞行常客例程)、第二列(玩游戏)数据画散点数据,散点大小为15,透明度为0.5\n",
    "    axs[0][0].scatter(x=datingDataMat[:,0], y=datingDataMat[:,1], color=LabelsColors,s=15, alpha=.5)\n",
    "    #设置标题,x轴label,y轴label\n",
    "    axs0_title_text = axs[0][0].set_title(u'每年获得的飞行常客里程数与玩视频游戏所消耗时间占比',FontProperties=font)\n",
    "    axs0_xlabel_text = axs[0][0].set_xlabel(u'每年获得的飞行常客里程数',FontProperties=font)\n",
    "    axs0_ylabel_text = axs[0][0].set_ylabel(u'玩视频游戏所消耗时间占',FontProperties=font)\n",
    "    plt.setp(axs0_title_text, size=9, weight='bold', color='red') \n",
    "    plt.setp(axs0_xlabel_text, size=7, weight='bold', color='black') \n",
    "    plt.setp(axs0_ylabel_text, size=7, weight='bold', color='black')\n",
    "\n",
    "    #画出散点图,以datingDataMat矩阵的第一(飞行常客例程)、第三列(冰激凌)数据画散点数据,散点大小为15,透明度为0.5\n",
    "    axs[0][1].scatter(x=datingDataMat[:,0], y=datingDataMat[:,2], color=LabelsColors,s=15, alpha=.5)\n",
    "    #设置标题,x轴label,y轴label\n",
    "    axs1_title_text = axs[0][1].set_title(u'每年获得的飞行常客里程数与每周消费的冰激淋公升数',FontProperties=font)\n",
    "    axs1_xlabel_text = axs[0][1].set_xlabel(u'每年获得的飞行常客里程数',FontProperties=font)\n",
    "    axs1_ylabel_text = axs[0][1].set_ylabel(u'每周消费的冰激淋公升数',FontProperties=font)\n",
    "    plt.setp(axs1_title_text, size=9, weight='bold', color='red') \n",
    "    plt.setp(axs1_xlabel_text, size=7, weight='bold', color='black') \n",
    "    plt.setp(axs1_ylabel_text, size=7, weight='bold', color='black')\n",
    "\n",
    "    #画出散点图,以datingDataMat矩阵的第二(玩游戏)、第三列(冰激凌)数据画散点数据,散点大小为15,透明度为0.5\n",
    "    axs[1][0].scatter(x=datingDataMat[:,1], y=datingDataMat[:,2], color=LabelsColors,s=15, alpha=.5)\n",
    "    #设置标题,x轴label,y轴label\n",
    "    axs2_title_text = axs[1][0].set_title(u'玩视频游戏所消耗时间占比与每周消费的冰激淋公升数',FontProperties=font)\n",
    "    axs2_xlabel_text = axs[1][0].set_xlabel(u'玩视频游戏所消耗时间占比',FontProperties=font)\n",
    "    axs2_ylabel_text = axs[1][0].set_ylabel(u'每周消费的冰激淋公升数',FontProperties=font)\n",
    "    plt.setp(axs2_title_text, size=9, weight='bold', color='red') \n",
    "    plt.setp(axs2_xlabel_text, size=7, weight='bold', color='black') \n",
    "    plt.setp(axs2_ylabel_text, size=7, weight='bold', color='black')\n",
    "    #设置图例\n",
    "    didntLike = mlines.Line2D([], [], color='black', marker='.',\n",
    "                      markersize=6, label='didntLike')\n",
    "    smallDoses = mlines.Line2D([], [], color='orange', marker='.',\n",
    "                      markersize=6, label='smallDoses')\n",
    "    largeDoses = mlines.Line2D([], [], color='red', marker='.',\n",
    "                      markersize=6, label='largeDoses')\n",
    "    #添加图例\n",
    "    axs[0][0].legend(handles=[didntLike,smallDoses,largeDoses])\n",
    "    axs[0][1].legend(handles=[didntLike,smallDoses,largeDoses])\n",
    "    axs[1][0].legend(handles=[didntLike,smallDoses,largeDoses])\n",
    "    #显示图片\n",
    "    plt.show()"
   ]
  },
  {
   "cell_type": "markdown",
   "metadata": {},
   "source": [
    "### 数据归一化"
   ]
  },
  {
   "cell_type": "code",
   "execution_count": 38,
   "metadata": {},
   "outputs": [],
   "source": [
    "\"\"\"\n",
    "函数说明:对数据进行归一化\n",
    "\n",
    "Parameters:\n",
    "    dataSet - 特征矩阵\n",
    "Returns:\n",
    "    normDataSet - 归一化后的特征矩阵\n",
    "    ranges - 数据范围\n",
    "    minVals - 数据最小值\n",
    "\n",
    "Modify:\n",
    "    2018-10-01\n",
    "\"\"\"\n",
    "def autoNorm(dataSet):\n",
    "    #获得数据的最小值\n",
    "    minVals = dataSet.min(0)\n",
    "    maxVals = dataSet.max(0)\n",
    "    #最大值和最小值的范围\n",
    "    ranges = maxVals - minVals\n",
    "    #shape(dataSet)返回dataSet的矩阵行列数\n",
    "    normDataSet = np.zeros(np.shape(dataSet))\n",
    "    #返回dataSet的行数\n",
    "    m = dataSet.shape[0]\n",
    "    #原始值减去最小值\n",
    "    normDataSet = dataSet - np.tile(minVals, (m, 1))\n",
    "    #除以最大和最小值的差,得到归一化数据\n",
    "    normDataSet = normDataSet / np.tile(ranges, (m, 1))\n",
    "    #返回归一化数据结果,数据范围,最小值\n",
    "    return normDataSet, ranges, minVals"
   ]
  },
  {
   "cell_type": "markdown",
   "metadata": {},
   "source": [
    "### 分类器"
   ]
  },
  {
   "cell_type": "code",
   "execution_count": 39,
   "metadata": {},
   "outputs": [],
   "source": [
    "\"\"\"\n",
    "函数说明:kNN算法,分类器\n",
    "\n",
    "Parameters:\n",
    "    inX - 用于分类的数据(测试集)\n",
    "    dataSet - 用于训练的数据(训练集)\n",
    "    labes - 分类标签\n",
    "    k - kNN算法参数,选择距离最小的k个点\n",
    "Returns:\n",
    "    sortedClassCount[0][0] - 分类结果\n",
    "\n",
    "Modify:\n",
    "    2018-10-01\n",
    "\"\"\"\n",
    "def classify0(inX, dataSet, labels, k):\n",
    "    #numpy函数shape[0]返回dataSet的行数\n",
    "    dataSetSize = dataSet.shape[0]\n",
    "    #在列向量方向上重复inX共1次(横向),行向量方向上重复inX共dataSetSize次(纵向)\n",
    "    diffMat = np.tile(inX, (dataSetSize, 1)) - dataSet\n",
    "    #二维特征相减后平方\n",
    "    sqDiffMat = diffMat**2\n",
    "    #sum()所有元素相加,sum(0)列相加,sum(1)行相加\n",
    "    sqDistances = sqDiffMat.sum(axis=1)\n",
    "    #开方,计算出距离\n",
    "    distances = sqDistances**0.5\n",
    "    #返回distances中元素从小到大排序后的索引值\n",
    "    sortedDistIndices = distances.argsort()\n",
    "    #定一个记录类别次数的字典\n",
    "    classCount = {}\n",
    "    for i in range(k):\n",
    "        #取出前k个元素的类别\n",
    "        voteIlabel = labels[sortedDistIndices[i]]\n",
    "        #dict.get(key,default=None),字典的get()方法,返回指定键的值,如果值不在字典中返回默认值。\n",
    "        #计算类别次数\n",
    "        classCount[voteIlabel] = classCount.get(voteIlabel,0) + 1\n",
    "    #python3中用items()替换python2中的iteritems()\n",
    "    #key=operator.itemgetter(1)根据字典的值进行排序\n",
    "    #key=operator.itemgetter(0)根据字典的键进行排序\n",
    "    #reverse降序排序字典\n",
    "    sortedClassCount = sorted(classCount.items(),key=operator.itemgetter(1),reverse=True)\n",
    "    #返回次数最多的类别,即所要分类的类别\n",
    "    return sortedClassCount[0][0]"
   ]
  },
  {
   "cell_type": "markdown",
   "metadata": {},
   "source": [
    "### 分类器针对约会网站的测试代码"
   ]
  },
  {
   "cell_type": "code",
   "execution_count": 40,
   "metadata": {},
   "outputs": [],
   "source": [
    "\"\"\"\n",
    "函数说明:分类器测试函数\n",
    "\n",
    "Parameters:\n",
    "    无\n",
    "Returns:\n",
    "    normDataSet - 归一化后的特征矩阵\n",
    "    ranges - 数据范围\n",
    "    minVals - 数据最小值\n",
    "\n",
    "Modify:\n",
    "    2018-10-01\n",
    "\"\"\"\n",
    "def datingClassTest():\n",
    "    #打开的文件名\n",
    "    filename = \"datingTestSet.txt\"\n",
    "    #将返回的特征矩阵和分类向量分别存储到datingDataMat和datingLabels中\n",
    "    datingDataMat, datingLabels = file2matrix(filename)\n",
    "    #取所有数据的百分之十\n",
    "    hoRatio = 0.10\n",
    "    #数据归一化,返回归一化后的矩阵,数据范围,数据最小值\n",
    "    normMat, ranges, minVals = autoNorm(datingDataMat)\n",
    "    #获得normMat的行数\n",
    "    m = normMat.shape[0]\n",
    "    #百分之十的测试数据的个数\n",
    "    numTestVecs = int(m * hoRatio)\n",
    "    #分类错误计数\n",
    "    errorCount = 0.0\n",
    "\n",
    "    for i in range(numTestVecs):\n",
    "        #前numTestVecs个数据作为测试集,后m-numTestVecs个数据作为训练集\n",
    "        classifierResult = classify0(normMat[i,:], normMat[numTestVecs:m,:],\n",
    "            datingLabels[numTestVecs:m], 4)\n",
    "        print(\"分类结果:%d\\t真实类别:%d\" % (classifierResult, datingLabels[i]))\n",
    "        if classifierResult != datingLabels[i]:\n",
    "            errorCount += 1.0\n",
    "    print(\"错误率:%f%%\" %(errorCount/float(numTestVecs)*100))"
   ]
  },
  {
   "cell_type": "markdown",
   "metadata": {},
   "source": [
    "### 约会网站预测函数"
   ]
  },
  {
   "cell_type": "code",
   "execution_count": 41,
   "metadata": {},
   "outputs": [],
   "source": [
    "\"\"\"\n",
    "函数说明:通过输入一个人的三维特征,进行分类输出\n",
    "\n",
    "Parameters:\n",
    "    无\n",
    "Returns:\n",
    "    无\n",
    "\n",
    "Modify:\n",
    "    2018-10-01\n",
    "\"\"\"\n",
    "def classifyPerson():\n",
    "    #输出结果\n",
    "    resultList = ['讨厌','有些喜欢','非常喜欢']\n",
    "    #三维特征用户输入\n",
    "    precentTats = float(input(\"玩视频游戏所耗时间百分比:\"))\n",
    "    ffMiles = float(input(\"每年获得的飞行常客里程数:\"))\n",
    "    iceCream = float(input(\"每周消费的冰激淋公升数:\"))\n",
    "    #打开的文件名\n",
    "    filename = \"datingTestSet.txt\"\n",
    "    #打开并处理数据\n",
    "    datingDataMat, datingLabels = file2matrix(filename)\n",
    "    #训练集归一化\n",
    "    normMat, ranges, minVals = autoNorm(datingDataMat)\n",
    "    #生成NumPy数组,测试集\n",
    "    inArr = np.array([precentTats, ffMiles, iceCream])\n",
    "    #测试集归一化\n",
    "    norminArr = (inArr - minVals) / ranges\n",
    "    #返回分类结果\n",
    "    classifierResult = classify0(norminArr, normMat, datingLabels, 3)\n",
    "    #打印结果\n",
    "    print(\"你可能%s这个人\" % (resultList[classifierResult-1]))"
   ]
  },
  {
   "cell_type": "code",
   "execution_count": 42,
   "metadata": {},
   "outputs": [
    {
     "name": "stdout",
     "output_type": "stream",
     "text": [
      "玩视频游戏所耗时间百分比:10\n",
      "每年获得的飞行常客里程数:10000\n",
      "每周消费的冰激淋公升数:0.5\n",
      "你可能讨厌这个人\n"
     ]
    }
   ],
   "source": [
    "classifyPerson()"
   ]
  },
  {
   "cell_type": "markdown",
   "metadata": {},
   "source": [
    "本文代码主要来自 Jack-Cui 的CSDN 博客 ，全文地址请点击：https://blog.csdn.net/c406495762/article/details/75172850?utm_source=copy "
   ]
  }
 ],
 "metadata": {
  "kernelspec": {
   "display_name": "Python 3",
   "language": "python",
   "name": "python3"
  },
  "language_info": {
   "codemirror_mode": {
    "name": "ipython",
    "version": 3
   },
   "file_extension": ".py",
   "mimetype": "text/x-python",
   "name": "python",
   "nbconvert_exporter": "python",
   "pygments_lexer": "ipython3",
   "version": "3.6.5"
  }
 },
 "nbformat": 4,
 "nbformat_minor": 2
}
