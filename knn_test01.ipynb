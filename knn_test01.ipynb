{
 "cells": [
  {
   "cell_type": "markdown",
   "metadata": {},
   "source": [
    "## 示例：使用k-近邻算法改进约会网站的配对效果"
   ]
  },
  {
   "cell_type": "code",
   "execution_count": null,
   "metadata": {},
   "outputs": [],
   "source": [
    "#导入程序锁需要的模块\n",
    "import numpy as np\n",
    "import operator"
   ]
  },
  {
   "cell_type": "markdown",
   "metadata": {},
   "source": [
    "### 将文本记录转换Numpy的解析程序："
   ]
  },
  {
   "cell_type": "code",
   "execution_count": null,
   "metadata": {},
   "outputs": [],
   "source": [
    "\"\"\"\n",
    "函数说明:打开并解析文件，对数据进行分类：1代表不喜欢,2代表魅力一般,3代表极具魅力\n",
    "\n",
    "Parameters:\n",
    "    filename - 文件名\n",
    "Returns:\n",
    "    returnMat - 特征矩阵\n",
    "    classLabelVector - 分类Label向量\n",
    "Modify:\n",
    "    2018-10-01\n",
    "\"\"\"\n",
    "def file2matrix(filename):\n",
    "    # 打开文件\n",
    "    fr = open(filename)\n",
    "    # 读取文件所有内容\n",
    "    arrayOLines = fr.readlines()\n",
    "    # 得到文件行数\n",
    "    numberOLines = len(arrayOLines)\n",
    "    # 返回的NumPy矩阵,解析完成的数据:numberOfLines行,3列\n",
    "    returnMat = np.zeros((numberOLines,3))\n",
    "    # 返回的分类标签向量\n",
    "    classLabelVector = []\n",
    "    # 行的索引值\n",
    "    index = 0\n",
    "    for line in arrayOLines:\n",
    "        # s.strip(rm)，当rm空时,默认删除空白符(包括'\\n','\\r','\\t',' ')\n",
    "        line = line.strip()\n",
    "        # 使用s.split(str=\"\",num=string,cout(str))将字符串根据'\\t'分隔符进行切片。\n",
    "        listFromLine = line.split('\\t')\n",
    "        # 将数据前三列提取出来,存放到returnMat的NumPy矩阵中,也就是特征矩阵\n",
    "        returnMat[index,:] = listFromLine[0:3]\n",
    "        #根据文本中标记的喜欢的程度进行分类,1代表不喜欢,2代表魅力一般 ,3代表极具魅力\n",
    "        if listFromLine[-1] == 'didntLike':\n",
    "            classLabelVector.append(1)\n",
    "        elif listFromLine[-1] == 'smallDoses':\n",
    "            classLabelVector.append(2)\n",
    "        elif listFromLine[-1] == 'largeDoses':\n",
    "            classLabelVector.append(3)\n",
    "        index += 1\n",
    "    return returnMat,classLabelVector\n",
    "    "
   ]
  }
 ],
 "metadata": {
  "kernelspec": {
   "display_name": "Python 3",
   "language": "python",
   "name": "python3"
  },
  "language_info": {
   "codemirror_mode": {
    "name": "ipython",
    "version": 3
   },
   "file_extension": ".py",
   "mimetype": "text/x-python",
   "name": "python",
   "nbconvert_exporter": "python",
   "pygments_lexer": "ipython3",
   "version": "3.6.5"
  }
 },
 "nbformat": 4,
 "nbformat_minor": 2
}
