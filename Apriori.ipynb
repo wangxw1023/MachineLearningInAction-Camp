{
 "cells": [
  {
   "cell_type": "markdown",
   "metadata": {},
   "source": [
    "### 使用Apriori算法进行关联分析\n",
    "- 从大规模数据集中寻找物品间的隐含关系被称作关联分析（association analysis）或者关联规则学习（association rule learning）\n",
    "- 关系可以有两种形式：频繁项集或者关联规则。频繁项集（frequent item sets）是经常出现在一块的物品的集合，关联规则暗示两种物品之间可能存在很强的关系。\n",
    "- 一个项集的支持度（support）被定义为数据集中包含该项集的记录所占的比例，\n",
    "- 可信度或置信度（confidence）是针对一条关联规则来定义的。\n",
    "- 支持度和可信度是用来量化关联分析是否成功的方法。\n",
    "\n",
    "### Apriori算法\n",
    "- 优点：易编码实现。\n",
    "- 缺点：在大数据集上可能较慢。\n",
    "- 使用数据类型：数值型或者标称型数据。\n",
    "\n",
    "### Apriori算法的一般过程\n",
    "（1）收集数据：可以使用任意方法。  \n",
    "（2）准备数据：任何数据类型都可以，因为我们只保存集合。  \n",
    "（3）分析数据：可以使用任意方法。  \n",
    "（4）训练算法：使用Apriori算法来找到频繁项集。  \n",
    "（5）测试算法：不需要测试过程。  \n",
    "（6）使用算法：用于发现频繁项集以及物品之间的关联规则。\n",
    "\n",
    "### Apriori原理\n",
    "- 如果某个项集是频繁的，那么它的所有子集也是频繁的。反过来，如果一个项集是非频繁的，那么它的所有超集也是非频繁的。\n",
    "- 使用该原理我们可以避免项集数目的指数增长，从而在合理时间内计算出频繁项集。\n",
    "- 关联分析的目标包括两项：发现频繁项集和发现关联规则。\n",
    "- Apriori算法是发现频繁项集的一种方法。\n",
    "\n",
    "### 数据集扫描的伪代码\n",
    "对数据集中的每条交易记录tran  \n",
    "对每个候选项集can：  \n",
    "    检查一下can是否是tran的子集；  \n",
    "    如果是，则增加can的计数值  \n",
    "对每个候选项集：  \n",
    "如果其支持度不低于最小值，则保留该项集  \n",
    "返回所有频繁项集列表  "
   ]
  },
  {
   "cell_type": "code",
   "execution_count": 3,
   "metadata": {},
   "outputs": [],
   "source": [
    "def loadDataSet():\n",
    "    '''\n",
    "    创建一个用于测试的简单数据集\n",
    "    '''\n",
    "    return [[1,3,4],[2,3,5],[1,2,3,5],[2,5]]"
   ]
  },
  {
   "cell_type": "code",
   "execution_count": 4,
   "metadata": {},
   "outputs": [],
   "source": [
    "def createC1(dataSet):\n",
    "    '''\n",
    "    构建集合C1\n",
    "    dataSet:数据集\n",
    "    Returns：\n",
    "    - 大小为1的所有候选项集的集合\n",
    "    '''\n",
    "    C1 = []\n",
    "    for transaction in dataSet:\n",
    "        for item in transaction:\n",
    "            if not [item] in C1:\n",
    "                C1.append([item]) #python不能创建只有一个整数的集合，必须使用列表\n",
    "    C1.sort()\n",
    "    return list(map(frozenset,C1)) #forazenset是指冰冻的集合，是不可改变的，set做不到\n",
    "                "
   ]
  },
  {
   "cell_type": "code",
   "execution_count": 5,
   "metadata": {},
   "outputs": [],
   "source": [
    "def scanD(D, Ck, minSupport):\n",
    "    '''\n",
    "    从C1生成L1\n",
    "    D：数据集\n",
    "    Ck：候选集合的列表\n",
    "    minSupport：最小支持度\n",
    "    Returns：\n",
    "    - retList：所有满足最小支持度要求的集合\n",
    "    - supportData：最频繁项集的支持度\n",
    "    '''\n",
    "    ssCnt = {}    #创建一个空字典\n",
    "    for tid in D:    #遍历数据集中的所有交易记录\n",
    "        for can in Ck:    #遍历Ck中的所有候选集\n",
    "            if can.issubset(tid):    #如果Ck中的集合是交易记录的一部分\n",
    "                if not can in ssCnt:ssCnt[can]=1    #若Ck中的集合不包含在字典中，则增加\n",
    "                else: ssCnt[can] +=1    #若包含，则增加字典中对应的计数值\n",
    "    numItems = float(len(D))    #获取交易记录总数\n",
    "    retList = []    #构建一个空列表，存储所有满足最小支持度要求的集合\n",
    "    supportData = {}    #最频繁项集的支持度\n",
    "    for key in ssCnt:    #遍历字典中的每个元素并计算支持度\n",
    "        support = ssCnt[key]/numItems    #计算支持度\n",
    "        if support >= minSupport:    #若满足最小支持度要求\n",
    "            retList.insert(0,key)    #存储在列表中\n",
    "        supportData[key] = support    #记录支持度\n",
    "    return retList,supportData    #返回最频繁项集及其支持度"
   ]
  },
  {
   "cell_type": "code",
   "execution_count": 6,
   "metadata": {},
   "outputs": [],
   "source": [
    "dataSet = loadDataSet()"
   ]
  },
  {
   "cell_type": "code",
   "execution_count": 7,
   "metadata": {},
   "outputs": [
    {
     "data": {
      "text/plain": [
       "[frozenset({1}),\n",
       " frozenset({2}),\n",
       " frozenset({3}),\n",
       " frozenset({4}),\n",
       " frozenset({5})]"
      ]
     },
     "execution_count": 7,
     "metadata": {},
     "output_type": "execute_result"
    }
   ],
   "source": [
    "C1 = createC1(dataSet)\n",
    "C1"
   ]
  },
  {
   "cell_type": "code",
   "execution_count": 8,
   "metadata": {},
   "outputs": [
    {
     "data": {
      "text/plain": [
       "[{1, 3, 4}, {2, 3, 5}, {1, 2, 3, 5}, {2, 5}]"
      ]
     },
     "execution_count": 8,
     "metadata": {},
     "output_type": "execute_result"
    }
   ],
   "source": [
    "D = list(map(set,dataSet))\n",
    "D"
   ]
  },
  {
   "cell_type": "code",
   "execution_count": 9,
   "metadata": {},
   "outputs": [
    {
     "data": {
      "text/plain": [
       "[frozenset({5}), frozenset({2}), frozenset({3}), frozenset({1})]"
      ]
     },
     "execution_count": 9,
     "metadata": {},
     "output_type": "execute_result"
    }
   ],
   "source": [
    "L1,suppData0 = scanD(D,C1,0.5)\n",
    "L1"
   ]
  },
  {
   "cell_type": "code",
   "execution_count": 10,
   "metadata": {},
   "outputs": [],
   "source": [
    "'''\n",
    "整个Apriori算法的伪代码：\n",
    "当集合中项的个数大于0时\n",
    "    构建一个k个项组成的候选项集的列表\n",
    "    检查数据以确认每个项集都是频繁的\n",
    "    保留频繁项集并构建k+1项组成的候选项集的列表\n",
    "'''\n",
    "def aprioriGen(Lk,k):    #creates Ck\n",
    "    '''\n",
    "    创建候选集Ck\n",
    "    Lk：频繁项集列表\n",
    "    k：项集元素个数\n",
    "    Return:\n",
    "    - retList:大小为k的所有候选项集的集合\n",
    "    '''\n",
    "    retList = []    #创建一个空列表\n",
    "    lenLk = len(Lk)    #计算Lk中的元素个数\n",
    "    for i in range(lenLk):    #比较Lk中的每一个元素和其他元素\n",
    "        for j in range(i+1, lenLk):\n",
    "            L1 = list(Lk[i])[:k-2]; L2 = list(Lk[j])[:k-2]    #取列表中的前面k-2个元素\n",
    "            L1.sort(); L2.sort()\n",
    "            if L1 == L2:    #如果两个集合的前面k-2个元素都相等，就将这两个集合合并成一个大小为k的集合\n",
    "                retList.append(Lk[i]|Lk[j])\n",
    "    return retList\n",
    "\n",
    "def apriori(dataSet, minSupport = 0.5):\n",
    "    '''\n",
    "    生成候选项集的列表\n",
    "    dataSet：数据集\n",
    "    minSupport：最小支持度，默认为0.5\n",
    "    Return:\n",
    "    - L:候选项集列表\n",
    "    - supportData：最频繁项集的支持度\n",
    "    '''\n",
    "    C1 = createC1(dataSet)    #创建C1\n",
    "    D = list(map(set,dataSet))    #将数据集转化为集合列表\n",
    "    L1, supportData = scanD(D,C1,minSupport)    #创建L1\n",
    "    L = [L1]    #候选项集列表\n",
    "    k =2    \n",
    "    while(len(L[k-2])>0):   #创建更大项集的更大列表，直到下一个大的项集为空\n",
    "        Ck = aprioriGen(L[k-2],k)    #创建Ck\n",
    "        Lk, supK = scanD(D,Ck,minSupport)    #基于Ck来创建Lk\n",
    "        supportData.update(supK)    #更新字典数据\n",
    "        L.append(Lk)     #添加候选项集\n",
    "        k += 1\n",
    "    return L, supportData    #返回结果"
   ]
  },
  {
   "cell_type": "code",
   "execution_count": 11,
   "metadata": {},
   "outputs": [],
   "source": [
    "L,supportData = apriori(dataSet)"
   ]
  },
  {
   "cell_type": "code",
   "execution_count": 12,
   "metadata": {},
   "outputs": [
    {
     "data": {
      "text/plain": [
       "[[frozenset({5}), frozenset({2}), frozenset({3}), frozenset({1})],\n",
       " [frozenset({2, 3}), frozenset({3, 5}), frozenset({2, 5}), frozenset({1, 3})],\n",
       " [frozenset({2, 3, 5})],\n",
       " []]"
      ]
     },
     "execution_count": 12,
     "metadata": {},
     "output_type": "execute_result"
    }
   ],
   "source": [
    "L"
   ]
  },
  {
   "cell_type": "code",
   "execution_count": 13,
   "metadata": {},
   "outputs": [
    {
     "data": {
      "text/plain": [
       "[frozenset({5}), frozenset({2}), frozenset({3}), frozenset({1})]"
      ]
     },
     "execution_count": 13,
     "metadata": {},
     "output_type": "execute_result"
    }
   ],
   "source": [
    "L[0]"
   ]
  },
  {
   "cell_type": "code",
   "execution_count": 14,
   "metadata": {},
   "outputs": [
    {
     "data": {
      "text/plain": [
       "[frozenset({2, 5}),\n",
       " frozenset({3, 5}),\n",
       " frozenset({1, 5}),\n",
       " frozenset({2, 3}),\n",
       " frozenset({1, 2}),\n",
       " frozenset({1, 3})]"
      ]
     },
     "execution_count": 14,
     "metadata": {},
     "output_type": "execute_result"
    }
   ],
   "source": [
    "aprioriGen(L[0],2)"
   ]
  },
  {
   "cell_type": "code",
   "execution_count": 15,
   "metadata": {},
   "outputs": [
    {
     "data": {
      "text/plain": [
       "[[frozenset({5}), frozenset({2}), frozenset({3})], [frozenset({2, 5})], []]"
      ]
     },
     "execution_count": 15,
     "metadata": {},
     "output_type": "execute_result"
    }
   ],
   "source": [
    "L,supportData = apriori(dataSet,minSupport=0.7)\n",
    "L"
   ]
  },
  {
   "cell_type": "code",
   "execution_count": 18,
   "metadata": {},
   "outputs": [],
   "source": [
    "def generateRules(L, supportData, minConf=0.7):\n",
    "    '''\n",
    "    关联规则生成函数。\n",
    "    L ： 频繁项集列表\n",
    "    supportData：频繁项集支持数据的字典\n",
    "    minConf：最小可信度阈值，默认值为0.7\n",
    "    Returns：\n",
    "    - bigRuleList：包含可信度的规则列表\n",
    "    '''\n",
    "    bigRuleList = []\n",
    "    for i in range(1,len(L)): #遍历L中的每一个频繁项集\n",
    "        for freqSet in L[i]:\n",
    "            H1 = [frozenset([item]) for item in freqSet] #创建只包含单个元素集合的列表H1\n",
    "            if (i>1):\n",
    "                rulesFromConseq(freqSet, H1, supportData, bigRuleList, minConf)    #从包含两个或者更多元素的项集开始规则构建\n",
    "            else:\n",
    "                calcConf(freqSet, H1, supportData, bigRuleList, minConf)\n",
    "    return bigRuleList\n",
    "\n",
    "def calcConf(freqSet, H, supportData, br1, minConf = 0.7):\n",
    "    '''\n",
    "    生成候选规则集合。\n",
    "    freqSet ： 频繁项集\n",
    "    H：可以出现在规则右部的元素列表\n",
    "    supportData：频繁项集支持数据的字典\n",
    "    br1：通过检查的bigRuleList\n",
    "    minConf：最小可信度阈值，默认值为0.7\n",
    "    Returns：\n",
    "    - prunedH：包含可信度的规则列表\n",
    "    '''\n",
    "    prunedH = []    #创建一个空列表\n",
    "    for conseq in H:   #遍历H中所有的项集\n",
    "        conf = supportData[freqSet]/supportData[freqSet - conseq]    #计算可信度\n",
    "        if conf >= minConf:\n",
    "            print(freqSet-conseq,'-->',conseq,'conf',conf)\n",
    "            br1.append((freqSet-conseq,conseq,conf))\n",
    "            prunedH.append(conseq)\n",
    "    return prunedH\n",
    "\n",
    "def rulesFromConseq(freqSet, H, supportData, br1, minConf = 0.7):\n",
    "    '''\n",
    "    从最初的规则中生成更多的关联规则。\n",
    "    freqSet ： 频繁项集\n",
    "    H：可以出现在规则右部的元素列表\n",
    "    supportData：频繁项集支持数据的字典\n",
    "    br1：通过检查的bigRuleList\n",
    "    minConf：最小可信度阈值，默认值为0.7\n",
    "    Returns：\n",
    "    - bigRuleList：包含可信度的规则列表\n",
    "    '''\n",
    "    m = len(H[0])    #计算H中的频繁集大小\n",
    "    if (len(freqSet) > (m+1)):    #查看该频繁集是否大道可以移除大小为m的子集\n",
    "        Hmp1 = aprioriGen(H,m+1)  #移除大小为m的子集，生成H中元素的无重复组合\n",
    "        Hmp1 = calcConf(freqSet, Hmp1, supportData, br1, minConf)\n",
    "        if(len(Hmp1) > 1):\n",
    "            rulesFromConseq(freqSet, Hmp1, supportData,br1,minConf)"
   ]
  },
  {
   "cell_type": "code",
   "execution_count": 22,
   "metadata": {},
   "outputs": [
    {
     "name": "stdout",
     "output_type": "stream",
     "text": [
      "frozenset({5}) --> frozenset({2}) conf 1.0\n",
      "frozenset({2}) --> frozenset({5}) conf 1.0\n",
      "frozenset({1}) --> frozenset({3}) conf 1.0\n"
     ]
    },
    {
     "data": {
      "text/plain": [
       "[(frozenset({5}), frozenset({2}), 1.0),\n",
       " (frozenset({2}), frozenset({5}), 1.0),\n",
       " (frozenset({1}), frozenset({3}), 1.0)]"
      ]
     },
     "execution_count": 22,
     "metadata": {},
     "output_type": "execute_result"
    }
   ],
   "source": [
    "L,supportData = apriori(dataSet,minSupport=0.5)\n",
    "rules = generateRules(L,supportData, minConf=0.7)\n",
    "rules"
   ]
  },
  {
   "cell_type": "code",
   "execution_count": 23,
   "metadata": {},
   "outputs": [
    {
     "name": "stdout",
     "output_type": "stream",
     "text": [
      "frozenset({3}) --> frozenset({2}) conf 0.6666666666666666\n",
      "frozenset({2}) --> frozenset({3}) conf 0.6666666666666666\n",
      "frozenset({5}) --> frozenset({3}) conf 0.6666666666666666\n",
      "frozenset({3}) --> frozenset({5}) conf 0.6666666666666666\n",
      "frozenset({5}) --> frozenset({2}) conf 1.0\n",
      "frozenset({2}) --> frozenset({5}) conf 1.0\n",
      "frozenset({3}) --> frozenset({1}) conf 0.6666666666666666\n",
      "frozenset({1}) --> frozenset({3}) conf 1.0\n",
      "frozenset({5}) --> frozenset({2, 3}) conf 0.6666666666666666\n",
      "frozenset({3}) --> frozenset({2, 5}) conf 0.6666666666666666\n",
      "frozenset({2}) --> frozenset({3, 5}) conf 0.6666666666666666\n"
     ]
    },
    {
     "data": {
      "text/plain": [
       "[(frozenset({3}), frozenset({2}), 0.6666666666666666),\n",
       " (frozenset({2}), frozenset({3}), 0.6666666666666666),\n",
       " (frozenset({5}), frozenset({3}), 0.6666666666666666),\n",
       " (frozenset({3}), frozenset({5}), 0.6666666666666666),\n",
       " (frozenset({5}), frozenset({2}), 1.0),\n",
       " (frozenset({2}), frozenset({5}), 1.0),\n",
       " (frozenset({3}), frozenset({1}), 0.6666666666666666),\n",
       " (frozenset({1}), frozenset({3}), 1.0),\n",
       " (frozenset({5}), frozenset({2, 3}), 0.6666666666666666),\n",
       " (frozenset({3}), frozenset({2, 5}), 0.6666666666666666),\n",
       " (frozenset({2}), frozenset({3, 5}), 0.6666666666666666)]"
      ]
     },
     "execution_count": 23,
     "metadata": {},
     "output_type": "execute_result"
    }
   ],
   "source": [
    "rules = generateRules(L,supportData, minConf=0.5)\n",
    "rules\n"
   ]
  },
  {
   "cell_type": "markdown",
   "metadata": {},
   "source": [
    "#### 示例：发现毒蘑菇的相似特征"
   ]
  },
  {
   "cell_type": "code",
   "execution_count": 24,
   "metadata": {},
   "outputs": [],
   "source": [
    "mushDatSet = [line.split() for line in open('data/mushroom.dat').readlines()]"
   ]
  },
  {
   "cell_type": "code",
   "execution_count": 25,
   "metadata": {},
   "outputs": [],
   "source": [
    "L,supportData = apriori(mushDatSet,minSupport=0.3)"
   ]
  },
  {
   "cell_type": "code",
   "execution_count": 26,
   "metadata": {},
   "outputs": [
    {
     "name": "stdout",
     "output_type": "stream",
     "text": [
      "frozenset({'28', '2'})\n",
      "frozenset({'2', '53'})\n",
      "frozenset({'23', '2'})\n",
      "frozenset({'2', '34'})\n",
      "frozenset({'36', '2'})\n",
      "frozenset({'59', '2'})\n",
      "frozenset({'63', '2'})\n",
      "frozenset({'67', '2'})\n",
      "frozenset({'76', '2'})\n",
      "frozenset({'2', '85'})\n",
      "frozenset({'86', '2'})\n",
      "frozenset({'90', '2'})\n",
      "frozenset({'93', '2'})\n",
      "frozenset({'39', '2'})\n"
     ]
    }
   ],
   "source": [
    "for item in L[1]:\n",
    "    if item.intersection('2'):print(item)"
   ]
  },
  {
   "cell_type": "code",
   "execution_count": 27,
   "metadata": {},
   "outputs": [
    {
     "name": "stdout",
     "output_type": "stream",
     "text": [
      "frozenset({'59', '2', '28', '34'})\n",
      "frozenset({'59', '2', '28', '85'})\n",
      "frozenset({'59', '2', '28', '86'})\n",
      "frozenset({'63', '2', '28', '34'})\n",
      "frozenset({'63', '59', '2', '28'})\n",
      "frozenset({'63', '2', '28', '85'})\n",
      "frozenset({'63', '2', '28', '86'})\n",
      "frozenset({'63', '2', '28', '39'})\n",
      "frozenset({'2', '28', '85', '34'})\n",
      "frozenset({'2', '28', '86', '34'})\n",
      "frozenset({'2', '28', '86', '85'})\n",
      "frozenset({'2', '28', '90', '34'})\n",
      "frozenset({'59', '2', '28', '90'})\n",
      "frozenset({'2', '28', '90', '85'})\n",
      "frozenset({'2', '28', '90', '86'})\n",
      "frozenset({'2', '28', '90', '39'})\n",
      "frozenset({'2', '28', '90', '53'})\n",
      "frozenset({'2', '28', '39', '34'})\n",
      "frozenset({'59', '2', '28', '39'})\n",
      "frozenset({'2', '28', '39', '85'})\n",
      "frozenset({'2', '28', '39', '86'})\n",
      "frozenset({'2', '28', '53', '34'})\n",
      "frozenset({'2', '28', '53', '85'})\n",
      "frozenset({'2', '28', '86', '53'})\n",
      "frozenset({'2', '28', '39', '53'})\n",
      "frozenset({'2', '53', '86', '34'})\n",
      "frozenset({'2', '53', '86', '85'})\n",
      "frozenset({'2', '90', '53', '34'})\n",
      "frozenset({'2', '90', '53', '85'})\n",
      "frozenset({'2', '90', '39', '53'})\n",
      "frozenset({'2', '90', '53', '86'})\n",
      "frozenset({'2', '34', '53', '85'})\n",
      "frozenset({'2', '39', '53', '34'})\n",
      "frozenset({'2', '39', '53', '85'})\n",
      "frozenset({'2', '86', '39', '53'})\n",
      "frozenset({'59', '2', '23', '34'})\n",
      "frozenset({'59', '2', '23', '85'})\n",
      "frozenset({'59', '2', '23', '86'})\n",
      "frozenset({'63', '2', '23', '34'})\n",
      "frozenset({'63', '59', '2', '23'})\n",
      "frozenset({'63', '2', '23', '85'})\n",
      "frozenset({'63', '2', '23', '86'})\n",
      "frozenset({'2', '23', '85', '34'})\n",
      "frozenset({'2', '23', '86', '34'})\n",
      "frozenset({'2', '23', '86', '85'})\n",
      "frozenset({'2', '23', '90', '34'})\n",
      "frozenset({'59', '2', '23', '90'})\n",
      "frozenset({'2', '23', '90', '85'})\n",
      "frozenset({'2', '23', '90', '86'})\n",
      "frozenset({'93', '2', '23', '90'})\n",
      "frozenset({'2', '23', '93', '34'})\n",
      "frozenset({'59', '2', '23', '93'})\n",
      "frozenset({'2', '23', '93', '85'})\n",
      "frozenset({'2', '23', '93', '86'})\n",
      "frozenset({'23', '2', '36', '34'})\n",
      "frozenset({'23', '59', '2', '36'})\n",
      "frozenset({'23', '63', '2', '36'})\n",
      "frozenset({'23', '2', '36', '85'})\n",
      "frozenset({'23', '2', '36', '86'})\n",
      "frozenset({'59', '2', '36', '34'})\n",
      "frozenset({'59', '2', '36', '85'})\n",
      "frozenset({'59', '2', '36', '86'})\n",
      "frozenset({'63', '2', '36', '34'})\n",
      "frozenset({'63', '59', '2', '36'})\n",
      "frozenset({'63', '2', '36', '85'})\n",
      "frozenset({'63', '2', '36', '86'})\n",
      "frozenset({'2', '36', '85', '34'})\n",
      "frozenset({'2', '36', '86', '34'})\n",
      "frozenset({'2', '36', '86', '85'})\n",
      "frozenset({'2', '36', '90', '34'})\n",
      "frozenset({'59', '2', '36', '90'})\n",
      "frozenset({'63', '2', '36', '90'})\n",
      "frozenset({'2', '36', '90', '85'})\n",
      "frozenset({'2', '36', '90', '86'})\n",
      "frozenset({'93', '2', '36', '90'})\n",
      "frozenset({'23', '2', '36', '93'})\n",
      "frozenset({'2', '36', '93', '34'})\n",
      "frozenset({'59', '2', '36', '93'})\n",
      "frozenset({'63', '2', '36', '93'})\n",
      "frozenset({'2', '36', '93', '85'})\n",
      "frozenset({'2', '36', '93', '86'})\n",
      "frozenset({'59', '2', '85', '34'})\n",
      "frozenset({'59', '2', '86', '34'})\n",
      "frozenset({'59', '2', '86', '85'})\n",
      "frozenset({'63', '59', '2', '34'})\n",
      "frozenset({'63', '59', '2', '85'})\n",
      "frozenset({'63', '59', '2', '86'})\n",
      "frozenset({'63', '2', '85', '34'})\n",
      "frozenset({'63', '2', '86', '34'})\n",
      "frozenset({'63', '2', '86', '85'})\n",
      "frozenset({'67', '2', '85', '34'})\n",
      "frozenset({'67', '2', '86', '34'})\n",
      "frozenset({'67', '2', '86', '85'})\n",
      "frozenset({'76', '2', '85', '34'})\n",
      "frozenset({'76', '2', '86', '34'})\n",
      "frozenset({'76', '2', '86', '85'})\n",
      "frozenset({'2', '34', '86', '85'})\n",
      "frozenset({'59', '2', '90', '34'})\n",
      "frozenset({'59', '2', '90', '85'})\n",
      "frozenset({'59', '2', '90', '86'})\n",
      "frozenset({'63', '2', '90', '34'})\n",
      "frozenset({'63', '59', '2', '90'})\n",
      "frozenset({'63', '2', '90', '85'})\n",
      "frozenset({'63', '2', '90', '86'})\n",
      "frozenset({'2', '90', '85', '34'})\n",
      "frozenset({'2', '90', '86', '34'})\n",
      "frozenset({'2', '90', '86', '85'})\n",
      "frozenset({'59', '2', '93', '34'})\n",
      "frozenset({'59', '2', '93', '85'})\n",
      "frozenset({'59', '2', '93', '86'})\n",
      "frozenset({'63', '2', '93', '34'})\n",
      "frozenset({'63', '59', '2', '93'})\n",
      "frozenset({'63', '2', '93', '85'})\n",
      "frozenset({'63', '2', '93', '86'})\n",
      "frozenset({'63', '90', '2', '93'})\n",
      "frozenset({'2', '93', '85', '34'})\n",
      "frozenset({'2', '93', '86', '34'})\n",
      "frozenset({'2', '93', '86', '85'})\n",
      "frozenset({'90', '2', '93', '34'})\n",
      "frozenset({'90', '2', '59', '93'})\n",
      "frozenset({'90', '2', '93', '85'})\n",
      "frozenset({'90', '2', '93', '86'})\n",
      "frozenset({'2', '23', '39', '34'})\n",
      "frozenset({'59', '2', '23', '39'})\n",
      "frozenset({'63', '2', '23', '39'})\n",
      "frozenset({'2', '23', '39', '85'})\n",
      "frozenset({'2', '23', '39', '86'})\n",
      "frozenset({'2', '23', '93', '39'})\n",
      "frozenset({'23', '2', '36', '39'})\n",
      "frozenset({'2', '36', '39', '34'})\n",
      "frozenset({'59', '2', '36', '39'})\n",
      "frozenset({'63', '2', '36', '39'})\n",
      "frozenset({'2', '36', '39', '85'})\n",
      "frozenset({'2', '36', '39', '86'})\n",
      "frozenset({'2', '36', '90', '39'})\n",
      "frozenset({'2', '36', '93', '39'})\n",
      "frozenset({'59', '2', '39', '34'})\n",
      "frozenset({'63', '59', '2', '39'})\n",
      "frozenset({'59', '2', '39', '85'})\n",
      "frozenset({'59', '2', '39', '86'})\n",
      "frozenset({'63', '2', '39', '34'})\n",
      "frozenset({'67', '2', '39', '34'})\n",
      "frozenset({'67', '2', '39', '85'})\n",
      "frozenset({'67', '2', '39', '86'})\n",
      "frozenset({'76', '2', '39', '34'})\n",
      "frozenset({'76', '2', '39', '85'})\n",
      "frozenset({'76', '2', '39', '86'})\n",
      "frozenset({'2', '39', '85', '34'})\n",
      "frozenset({'63', '2', '39', '85'})\n",
      "frozenset({'2', '39', '86', '34'})\n",
      "frozenset({'63', '2', '39', '86'})\n",
      "frozenset({'2', '39', '86', '85'})\n",
      "frozenset({'2', '90', '39', '34'})\n",
      "frozenset({'59', '2', '90', '39'})\n",
      "frozenset({'63', '2', '90', '39'})\n",
      "frozenset({'2', '90', '39', '85'})\n",
      "frozenset({'2', '90', '39', '86'})\n",
      "frozenset({'2', '93', '39', '34'})\n",
      "frozenset({'59', '2', '93', '39'})\n",
      "frozenset({'63', '2', '93', '39'})\n",
      "frozenset({'2', '93', '39', '85'})\n",
      "frozenset({'2', '93', '39', '86'})\n",
      "frozenset({'90', '2', '93', '39'})\n"
     ]
    }
   ],
   "source": [
    "for item in L[3]:\n",
    "    if item.intersection('2'):print(item)"
   ]
  },
  {
   "cell_type": "code",
   "execution_count": null,
   "metadata": {},
   "outputs": [],
   "source": []
  }
 ],
 "metadata": {
  "kernelspec": {
   "display_name": "Python 3",
   "language": "python",
   "name": "python3"
  },
  "language_info": {
   "codemirror_mode": {
    "name": "ipython",
    "version": 3
   },
   "file_extension": ".py",
   "mimetype": "text/x-python",
   "name": "python",
   "nbconvert_exporter": "python",
   "pygments_lexer": "ipython3",
   "version": "3.6.5"
  }
 },
 "nbformat": 4,
 "nbformat_minor": 2
}
