{
 "cells": [
  {
   "cell_type": "markdown",
   "metadata": {},
   "source": [
    "### 示例：使用朴素贝叶斯分类器从个人广告中获取区域倾向\n",
    "（1）收集数据：从RSS(Really Simple Syndication（简易信息聚合）)源收集内容，这里需要对RSS源构建一个接口。  \n",
    "（2）准备数据：将文本文件解析成词条向量。  \n",
    "（3）分析数据：检查词条确保解析的正确性。  \n",
    "（4）训练算法：使用我们之前建立的trainNB0()函数。  \n",
    "（5）测试算法：观察错误率，确保分类器可用。可以修改切分程序，以降低错误率，提高分类结果。  \n",
    "（6）使用算法：构建一个完整的程序，封装所有内容。给定两个RSS源，该程序会显示最常用的公共词。  "
   ]
  },
  {
   "cell_type": "code",
   "execution_count": 1,
   "metadata": {},
   "outputs": [],
   "source": [
    "def localWords(feed1,feed0):\n",
    "    import feedparser\n",
    "    docList=[]; classList=[]; fullText=[]\n",
    "    minLen = min(len(feed1['entries']),len(feed0['entries']))  #取feed0和feed1中较小的长度\n",
    "    for i in range(minLen):\n",
    "        wordList = textParse(feed1['entries'][i]['summary'])  #读取每一条页面返回的summary，并将字符串转换成字符串列表\n",
    "        docList.append(wordList)\n",
    "        fullText.extend(wordList)\n",
    "        classList.append(1) #标记属于第一类网站\n",
    "        wordList = textParse(feed0['entries'][i]['summary'])\n",
    "        docList.append(wordList)\n",
    "        fullText.extend(wordList)\n",
    "        classList.append(0)  #标记属于第二类网站\n",
    "    vocabList = createVocabList(docList)  #创建词汇表，不重复\n",
    "    top30Words = calcMostFreq(vocabList,fullText)  #找到词频排在前30的词\n",
    "    # 说明：\n",
    "    # 1.为什么要去除频次最高的词项：因为出现频次高的词项很多是没有意义的冗余和辅助性内容，\n",
    "    # 不移除这些词汇，使用朴素贝叶斯分类算法，其错误率会显著高一些\n",
    "    # - 另外一个方法，是从词表中删除辅助词，这个需要删除的词表被称为停用词表，\n",
    "    # 这个网站列出了多门语言，如英文、中文等语言中的停用词表。\n",
    "    for pairW in top30Words:     #去掉词频排在前30的词\n",
    "        if pairW[0] in vocabList: vocabList.remove(pairW[0])\n",
    "    trainingSet = list(range(2*minLen)); testSet=[]\n",
    "    for i in range(20):\n",
    "        randIndex = int(random.uniform(0,len(trainingSet)))\n",
    "        testSet.append(trainingSet[randIndex])\n",
    "        del(trainingSet[randIndex])\n",
    "    trainMat=[]; trainClasses = []\n",
    "    for docIndex in trainingSet:\n",
    "        trainMat.append(bagOfWords2VecMN(vocabList, docList[docIndex]))\n",
    "        trainClasses.append(classList[docIndex])\n",
    "    p0V, p1V, pSpam = trainNB0(np.array(trainMat), np.array(trainClasses))\n",
    "    errorCount = 0.0\n",
    "    for docIndex in testSet:\n",
    "        wordVector = bagOfWords2VecMN(vocabList,docList[docIndex])\n",
    "        if classifyNB(np.array(wordVector), p0V, p1V, pSpam) != classList[docIndex]:\n",
    "            errorCount += 1\n",
    "    print('the error rate is:', float(errorCount)/len(testSet))\n",
    "    return vocabList,p0V,p1V\n",
    "\n",
    "def getTopWords(ny,sf):\n",
    "    import operator\n",
    "    vocabList,p0V,p1V = localWords(ny,sf)\n",
    "    topNY = []; topSF=[]\n",
    "    for i in range(len(p0V)):\n",
    "        if p0V[i] > -6.0: topSF.append((vocabList[i],p0V[i]))\n",
    "        if p1V[i] > -6.0: topNY.append((vocabList[i],p1V[i]))\n",
    "    sortedSF = sorted(topSF, key=lambda pair:pair[1], reverse=True)\n",
    "    print('SF**SF**SF**SF**SF**SF**SF**SF**SF**SF**SF**SF**SF**SF**SF**SF**')\n",
    "    for item in sortedSF:\n",
    "        print(item[0])\n",
    "    sortedNY = sorted(topNY, key=lambda pair: pair[1], reverse=True)\n",
    "    print('NY**NY**NY**NY**NY**NY**NY**NY**NY**NY**NY**NY**NY**NY**NY**NY**')\n",
    "    for item in sortedNY:\n",
    "        print(item[0])"
   ]
  }
 ],
 "metadata": {
  "kernelspec": {
   "display_name": "Python 3",
   "language": "python",
   "name": "python3"
  },
  "language_info": {
   "codemirror_mode": {
    "name": "ipython",
    "version": 3
   },
   "file_extension": ".py",
   "mimetype": "text/x-python",
   "name": "python",
   "nbconvert_exporter": "python",
   "pygments_lexer": "ipython3",
   "version": "3.6.5"
  }
 },
 "nbformat": 4,
 "nbformat_minor": 2
}
