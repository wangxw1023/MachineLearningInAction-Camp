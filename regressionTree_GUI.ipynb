{
 "cells": [
  {
   "cell_type": "markdown",
   "metadata": {},
   "source": [
    "#### 示例：利用GUI对回归树调优\n",
    "（1）收集数据：所提供的文本文件。  \n",
    "（2）准备数据：用Python解析上述文件，得到数值型数据。  \n",
    "（3）分析数据：用Thinter构建一个GUI来展示模型和数据。  \n",
    "（4）训练算法：训练一棵回归树和一棵模型树，并与数据集一起展示出来。  \n",
    "（5）测试算法：这里不需要测试过程。  \n",
    "（6）使用算法：GUI是的人们可以在预剪枝时测试不同参数的影响，还可以帮助我们选择模型的类型。"
   ]
  },
  {
   "cell_type": "code",
   "execution_count": 3,
   "metadata": {},
   "outputs": [
    {
     "name": "stderr",
     "output_type": "stream",
     "text": [
      "C:\\ProgramData\\Anaconda3\\lib\\site-packages\\ipykernel_launcher.py:56: MatplotlibDeprecationWarning: The FigureCanvasTk.show function was deprecated in version 2.2. Use FigureCanvasTk.draw instead.\n",
      "C:\\ProgramData\\Anaconda3\\lib\\site-packages\\ipykernel_launcher.py:26: MatplotlibDeprecationWarning: The FigureCanvasTk.show function was deprecated in version 2.2. Use FigureCanvasTk.draw instead.\n"
     ]
    }
   ],
   "source": [
    "from numpy import *\n",
    "\n",
    "from tkinter import *\n",
    "import regressionTree\n",
    "\n",
    "import matplotlib\n",
    "\n",
    "matplotlib.use('TkAgg') #设置后端TkAgg\n",
    "#将TkAgg和matplotlib链接起来\n",
    "from matplotlib.backends.backend_tkagg import FigureCanvasTkAgg\n",
    "from matplotlib.figure import Figure\n",
    "\n",
    "\n",
    "def reDraw(tolS, tolN):\n",
    "    reDraw.f.clf()  #清空之前的图像\n",
    "    reDraw.a = reDraw.f.add_subplot(111)#重新添加新图\n",
    "    if chkBtnVar.get():#检查选框model tree是否被选中\n",
    "        if tolN < 2: tolN = 2\n",
    "        myTree = regressionTree.createTree(reDraw.rawDat, regressionTree.modelLeaf,regressionTree.modelErr, (tolS, tolN))\n",
    "        yHat = regressionTree.createForeCast(myTree, reDraw.testDat, regressionTree.modelTreeEval)\n",
    "    else:\n",
    "        myTree = regressionTree.createTree(reDraw.rawDat, ops=(tolS, tolN))\n",
    "        yHat = regressionTree.createForeCast(myTree, reDraw.testDat)\n",
    "    reDraw.a.scatter(array(reDraw.rawDat[:, 0]),array(reDraw.rawDat[:, 1]), s=5)  # 绘制真实值\n",
    "    reDraw.a.plot(reDraw.testDat, yHat, linewidth=2.0)  # 绘制预测值\n",
    "    reDraw.canvas.show()\n",
    "\n",
    "\n",
    "def getInputs():#获取输入\n",
    "    try:#期望输入是整数\n",
    "        tolN = int(tolNentry.get())\n",
    "    except:#清楚错误用默认值替换\n",
    "        tolN = 10\n",
    "        print(\"enter Integer for tolN\")\n",
    "        tolNentry.delete(0, END)\n",
    "        tolNentry.insert(0, '10')\n",
    "    try:#期望输入是浮点数\n",
    "        tolS = float(tolSentry.get())\n",
    "    except:\n",
    "        tolS = 1.0\n",
    "        print(\"enter Float for tolS\")\n",
    "        tolSentry.delete(0, END)\n",
    "        tolSentry.insert(0, '1.0')\n",
    "    return tolN, tolS\n",
    "\n",
    "\n",
    "def drawNewTree():\n",
    "    tolN, tolS = getInputs()  # 从输入文本框中获取参数\n",
    "    reDraw(tolS, tolN)  #绘制图\n",
    "\n",
    "\n",
    "root = Tk()\n",
    "\n",
    "reDraw.f = Figure(figsize=(5, 4), dpi=100)  # 创建画布\n",
    "reDraw.canvas = FigureCanvasTkAgg(reDraw.f, master=root)\n",
    "reDraw.canvas.show()\n",
    "reDraw.canvas.get_tk_widget().grid(row=0, columnspan=3)\n",
    "\n",
    "Label(root, text=\"tolN\").grid(row=1, column=0)\n",
    "tolNentry = Entry(root)\n",
    "tolNentry.grid(row=1, column=1)\n",
    "tolNentry.insert(0, '10')\n",
    "Label(root, text=\"tolS\").grid(row=2, column=0)\n",
    "tolSentry = Entry(root)\n",
    "tolSentry.grid(row=2, column=1)\n",
    "tolSentry.insert(0, '1.0')\n",
    "Button(root, text=\"ReDraw\", command=drawNewTree).grid(row=1, column=2, rowspan=3)\n",
    "chkBtnVar = IntVar()\n",
    "chkBtn = Checkbutton(root, text=\"Model Tree\", variable=chkBtnVar)\n",
    "chkBtn.grid(row=3, column=0, columnspan=2)\n",
    "\n",
    "reDraw.rawDat = mat(regressionTree.loadDataSet('data\\sine.txt'))\n",
    "reDraw.testDat = arange(min(reDraw.rawDat[:, 0]), max(reDraw.rawDat[:, 0]), 0.01)\n",
    "reDraw(1.0, 10)\n",
    "\n",
    "root.mainloop()"
   ]
  },
  {
   "cell_type": "code",
   "execution_count": null,
   "metadata": {},
   "outputs": [],
   "source": []
  }
 ],
 "metadata": {
  "kernelspec": {
   "display_name": "Python 3",
   "language": "python",
   "name": "python3"
  },
  "language_info": {
   "codemirror_mode": {
    "name": "ipython",
    "version": 3
   },
   "file_extension": ".py",
   "mimetype": "text/x-python",
   "name": "python",
   "nbconvert_exporter": "python",
   "pygments_lexer": "ipython3",
   "version": "3.6.5"
  }
 },
 "nbformat": 4,
 "nbformat_minor": 2
}
