{
 "cells": [
  {
   "cell_type": "markdown",
   "metadata": {},
   "source": [
    "### AdaBoost的一般流程\n",
    "（1）收集数据：可以使用任意方法。  \n",
    "（2）准备数据：依赖于所使用的弱分类器类型，本章使用的是单层决策树，这种分类器可以处理任何数据类型。当然也可以使用任意分类器作为弱分类器，作为弱分类器，简单分类器的效果更好。  \n",
    "（3）分析数据：可以使用任意方法。  \n",
    "（4）训练算法：AdaBoost的大部分时间都用在训练上，分类器将多次在同一数据集上训练弱分类器。  \n",
    "（5）测试算法：计算分类的错误率。  \n",
    "（6）使用算法：同SVM一样，AdaBoost预测两个类别中的一个。如果想把它应用到多个类别的场合，那么就要像多类SVM中的做法一样对AdaBoost进行修改。"
   ]
  },
  {
   "cell_type": "markdown",
   "metadata": {},
   "source": [
    "#### AdaBoost（Adaptive boosting）的运行过程：\n",
    "- 训练数据中的每个样本，并赋予其一个权重，这些权重构成了向量$D$。  \n",
    "- 一开始，这些权重都初始化成相等值。  \n",
    "- 首先，在训练数据上训练出一个弱分类器并计算该分类器的错误率，然后在同一数据集上再次训练弱分类器。  \n",
    "- 在分类器的第二次训练当中，将会重新调整每个样本的权重，其中第一次分对的样本的权重将会降低，而第一次分错的样本的权重将会提高。  \n",
    "- 为了从所有弱分类器中得到最终的分类结果，AdaBoost为每个分类器都分配了一个权重值alpha，这些alpha值是基于每个弱分类器的错误率进行计算的。"
   ]
  },
  {
   "cell_type": "markdown",
   "metadata": {},
   "source": [
    "其中，错误率$ε$的定义为：\n",
    "$$ε=\\frac{未正确分类的样本数目}{所有样本数目}$$\n",
    "而alpha的计算公式如下： \n",
    "$$α= \\frac{1}{2}ln(\\frac{1-ε}{ε})$$\n",
    "计算出alpha值之后，可以对权重向量$D$进行更新，以使那些正确分类的样本的权重降低而错分样本的权重升高。$D$的计算方法如下： \n",
    "如果某个样本被正确分类，那么该样本的权重更改为： \n",
    "$$D_i^{(t+1)}=\\frac{D_i^{(t)}e^{-α}}{Sum(D)}$$\n",
    "而如果某个样本被错分，那么该样本的权重更改为;  \n",
    "$$D_i^{(t+1)}=\\frac{D_i^{(t)}e^{α}}{Sum(D)}$$\n",
    "在计算出$D$之后，AdaBoost又开始下一轮迭代。AdaBoost算法会不断重复训练和调整权重的过程，直到错误率为0或者弱分类器的数目达到用户的指定值为止。"
   ]
  },
  {
   "cell_type": "code",
   "execution_count": 90,
   "metadata": {},
   "outputs": [],
   "source": [
    "import numpy as np\n",
    "\"\"\"\n",
    "函数说明:加载数据\n",
    "\n",
    "Parameters:\n",
    "    无\n",
    "Returns:\n",
    "    datMat - 数据列表\n",
    "    classLabels - 标签列表\n",
    "\"\"\"\n",
    "def loadSimpData():\n",
    "    datMat = np.matrix([[1.,2.1],\n",
    "                        [2.,1.1],\n",
    "                        [1.3,1.],\n",
    "                        [1.,1.],\n",
    "                        [2.,1.]])\n",
    "    classLabels = [1.0,1.0,-1.0,-1.0,1.0]\n",
    "    return datMat,classLabels"
   ]
  },
  {
   "cell_type": "code",
   "execution_count": 91,
   "metadata": {},
   "outputs": [],
   "source": [
    "\"\"\"\n",
    "函数说明:单层决策树分类函数\n",
    "\n",
    "Parameters:\n",
    "    dataMatrix - 数据矩阵\n",
    "    dimen - 第dimen列，即第dimen个特征\n",
    "    threshVal - 阈值\n",
    "    threshIneq - 标志，lt--less than；gt--great than\n",
    "Returns:\n",
    "    retArray - 分类结果\n",
    "\"\"\"\n",
    "def stumpClassify(dataMatrix,dimen,threshVal,threshIneq):\n",
    "    retArray = np.ones((dataMatrix.shape[0],1))     #将分类结果初始化为1\n",
    "    if threshIneq == 'lt':\n",
    "        retArray[dataMatrix[:,dimen] <= threshVal] = -1.0   #如果小于阈值，则分类结果为-1\n",
    "    else:\n",
    "        retArray[dataMatrix[:,dimen] > threshVal] = -1.0    #如果大于阈值，则分类结果为-1\n",
    "    return retArray"
   ]
  },
  {
   "cell_type": "code",
   "execution_count": 92,
   "metadata": {},
   "outputs": [],
   "source": [
    "\"\"\"\n",
    "函数说明:找到数据集上最佳的单层决策树\n",
    "\n",
    "Parameters:\n",
    "    dataArr - 数据列表\n",
    "    classLabels - 标签列表\n",
    "    D - 样本权重\n",
    "Returns:\n",
    "    bestStump - 最佳单层决策树信息\n",
    "    minError - 最小错误率\n",
    "    bestClassEst - 最佳分类结果\n",
    "\"\"\"\n",
    "def buildStump(dataArr, classLabels,D):\n",
    "    dataMatrix = np.mat(dataArr); labelMat = np.mat(classLabels).T  #将训练数据和标签列表转换为numpy矩阵\n",
    "    m,n = np.shape(dataMatrix)  #返回训练数据的大小\n",
    "    numSteps = 10.0; bestStump = {}; bestClassEst = np.mat(np.zeros((m,1))) #初始化\n",
    "    minError = np.inf   #将最小错误率设置为无穷大\n",
    "    for i in range(n):  #遍历所有特征\n",
    "        rangeMin = dataMatrix[:,i].min(); rangeMax = dataMatrix[:,i].max()  #找到特征中最小和最大的值\n",
    "        stepSize = (rangeMax-rangeMin)/numSteps #计算步长\n",
    "        for j in range(-1,int(numSteps)+1):\n",
    "            for inequal in ['lt','gt']:     #遍历大于和小于的情况\n",
    "                threshVal = (rangeMin+float(j)*stepSize)    #计算阈值\n",
    "                predictedVals = stumpClassify(dataMatrix,i,threshVal,inequal)   #计算分类结果\n",
    "                errArr = np.mat(np.ones((m,1)))     #初始化误差矩阵\n",
    "                errArr[predictedVals == labelMat] = 0   #若预测正确，赋值为0\n",
    "                weightedError = D.T*errArr  #计算加权误差率\n",
    "                #print(\"split: dim  %d, thresh  %.2f, thresh ineqal: %s, the weighted error is %.3f\" %\\\n",
    "                 #     (i, threshVal,inequal,weightedError))\n",
    "                if weightedError < minError:    #找到误差最小的分类方式\n",
    "                    minError = weightedError\n",
    "                    bestClassEst = predictedVals.copy()\n",
    "                    bestStump['dim'] = i    #将最佳单层决策树的信息存至字典\n",
    "                    bestStump['thresh'] = threshVal\n",
    "                    bestStump['ineq'] = inequal\n",
    "    return bestStump,minError,bestClassEst"
   ]
  },
  {
   "cell_type": "code",
   "execution_count": 93,
   "metadata": {},
   "outputs": [],
   "source": [
    "\"\"\"\n",
    "函数说明:基于单层决策树的AdaBoost训练过程\n",
    "\n",
    "Parameters:\n",
    "    dataArr - 数据集\n",
    "    classLabels - 类别标签\n",
    "    numIt - 迭代次数\n",
    "Returns:\n",
    "    weakClassArr - 各层决策树信息\n",
    "\"\"\"\n",
    "def adaBoostTrainDS(dataArr, classLabels, numIt = 40):\n",
    "    weakClassArr = []\n",
    "    m = np.shape(dataArr)[0]\n",
    "    D = np.mat(np.ones((m,1))/m)    #初始化权重\n",
    "    aggClassEst = np.mat(np.zeros((m,1)))   #记录每个数据点的类别估计累计值\n",
    "    for i in range(numIt):\n",
    "        bestStump, error, classEst = buildStump(dataArr,classLabels,D)  #构建单层决策树\n",
    "        #print(\"D: \", D.T)\n",
    "        alpha = float(0.5*np.log((1.0-error)/max(error,1e-16))) #根据公式计算弱学习算法权重\n",
    "        bestStump['alpha'] = alpha  #存储弱学习算法权重\n",
    "        weakClassArr.append(bestStump)    #存储单层决策树\n",
    "        #print(\"classEst: \", classEst.T)\n",
    "        expon = np.multiply(-1*alpha*np.mat(classLabels).T,classEst)    #根据公式计算e的指数项\n",
    "        D = np.multiply(D,np.exp(expon))\n",
    "        D = D/D.sum()   #根据样本权重公式，更新权重\n",
    "        aggClassEst += alpha*classEst   #将各数据点的类别估计值累加\n",
    "       # print(\"aggClassEst: \", aggClassEst.T)\n",
    "        aggErrors = np.multiply(np.sign(aggClassEst)!= np.mat(classLabels).T, np.ones((m,1)))   #计算误差\n",
    "        errorRate = aggErrors.sum()/m\n",
    "        print(\"total error:\", errorRate,\"\\n\")\n",
    "        if errorRate == 0.0: break\n",
    "    return weakClassArr,aggClassEst"
   ]
  },
  {
   "cell_type": "code",
   "execution_count": 94,
   "metadata": {},
   "outputs": [],
   "source": [
    "\"\"\"\n",
    "函数说明:AdaBoost分类函数\n",
    "\n",
    "Parameters:\n",
    "    datToClass - 待分类数据集\n",
    "    classifierArr - 训练好的多个弱分类器数组\n",
    "Returns:\n",
    "    分类结果\n",
    "\"\"\"\n",
    "def adaClassify(datToClass, classifierArr):\n",
    "    dataMatrix = np.mat(datToClass) #将待分类数据集转换为numpy矩阵\n",
    "    m = np.shape(dataMatrix)[0] #求得待分类数据的样本数\n",
    "    aggClassEst = np.mat(np.zeros((m,1))) #初始化分类结果\n",
    "    for i in range(len(classifierArr)): #遍历所有的分类器，进行分类\n",
    "        classEst = stumpClassify(dataMatrix,classifierArr[i]['dim'],classifierArr[i]['thresh'],\\\n",
    "                                 classifierArr[i]['ineq'])\n",
    "        aggClassEst += classifierArr[i]['alpha']*classEst   #给样本加上权重\n",
    "        #print(aggClassEst)\n",
    "    return np.sign(aggClassEst) #返回分类结果"
   ]
  },
  {
   "cell_type": "markdown",
   "metadata": {},
   "source": [
    "#### 示例：在一个难数据集上应用AdaBoost\n",
    "（1）收集数据：提供的文本文件。  \n",
    "（2）准备数据：确保类别标签是+1和-1而非1和0。  \n",
    "（3）分析数据：手工检查数据。  \n",
    "（4）训练算法：在数据上，利用adaBoostTrainDS()函数训练出一系列的分类器。  \n",
    "（5）测试算法：我们拥有两个数据集。在不采用随机抽样的方法下，我们就会对AdaBoost和Logistic回归的结果进行完全对等的比较。  \n",
    "（6）使用算法：观察该例子上的错误率。不过，也可以构建一个Web网站，让驯马师输入马的症状然后预测马是否会死去。"
   ]
  },
  {
   "cell_type": "code",
   "execution_count": 95,
   "metadata": {},
   "outputs": [],
   "source": [
    "\"\"\"\n",
    "函数说明:自适应数据加载函数\n",
    "\n",
    "Parameters:\n",
    "    fileName - 文件名\n",
    "Returns:\n",
    "    dataMat- 数据集\n",
    "    labelMat- 标签列表\n",
    "\"\"\"\n",
    "def loadDataSet(fileName):\n",
    "    numFeat = len(open(fileName).readline().split('\\t'))    #获取特征数目\n",
    "    dataMat = []; labelMat = []\n",
    "    fr = open(fileName) #打开文件\n",
    "    for line in fr.readlines(): #逐行读取\n",
    "        lineArr = []\n",
    "        curLine = line.strip().split('\\t')  #去掉回车，放入列表\n",
    "        for i in range(numFeat-1):\n",
    "            lineArr.append(float(curLine[i]))\n",
    "        dataMat.append(lineArr) #添加数据\n",
    "        labelMat.append(float(curLine[-1])) #添加标签\n",
    "    return dataMat,labelMat"
   ]
  },
  {
   "cell_type": "code",
   "execution_count": 96,
   "metadata": {},
   "outputs": [
    {
     "name": "stdout",
     "output_type": "stream",
     "text": [
      "total error: 0.284280936455 \n",
      "\n",
      "total error: 0.284280936455 \n",
      "\n",
      "total error: 0.247491638796 \n",
      "\n",
      "total error: 0.247491638796 \n",
      "\n",
      "total error: 0.254180602007 \n",
      "\n",
      "total error: 0.240802675585 \n",
      "\n",
      "total error: 0.240802675585 \n",
      "\n",
      "total error: 0.220735785953 \n",
      "\n",
      "total error: 0.247491638796 \n",
      "\n",
      "total error: 0.230769230769 \n",
      "\n"
     ]
    }
   ],
   "source": [
    "dataMat,labelMat = loadDataSet('data/horseColicTraining2.txt')\n",
    "classifierArray,aggClassEst = adaBoostTrainDS(dataMat,labelMat,10)"
   ]
  },
  {
   "cell_type": "code",
   "execution_count": 97,
   "metadata": {},
   "outputs": [
    {
     "data": {
      "text/plain": [
       "0.23076923076923078"
      ]
     },
     "execution_count": 97,
     "metadata": {},
     "output_type": "execute_result"
    }
   ],
   "source": [
    "testeMat,testLabelMat = loadDataSet('data/horseColicTraining2.txt')\n",
    "prediction10 = adaClassify(testeMat,classifierArray)\n",
    "#求得预测错误率\n",
    "m,n = np.shape(testeMat)\n",
    "errArr = np.mat(np.ones((m,1)))\n",
    "errArr = np.multiply((prediction10!=np.mat(testLabelMat).T),errArr)\n",
    "errRate = errArr.sum()/m\n",
    "errRate"
   ]
  },
  {
   "cell_type": "markdown",
   "metadata": {},
   "source": [
    "#### 其他分类性能度量指标：正确率、召回率及ROC曲线\n",
    "- 混淆矩阵中有真正例（TP）、伪正例（FP）、伪反例（FN）、真反例（TN）\n",
    "- 正确率为TP/(TP+FP)，给出的是预测为正例的样本中的真正正例的比例。\n",
    "- 召回率为TP/(TP+FN)，给出的是预测为正例的真实正例占所有真实正例的比例。\n",
    "- ROC曲线（ROC curve），ROC代表接收者操作特征（receiver operating characteristic）。\n",
    "- ROC曲线下的面积AUC(Area Under the Curve)给出的是分类器的平均性能值。"
   ]
  },
  {
   "cell_type": "code",
   "execution_count": 98,
   "metadata": {},
   "outputs": [],
   "source": [
    "\"\"\"\n",
    "函数说明:ROC曲线的绘制及AUC计算函数\n",
    "\n",
    "Parameters:\n",
    "    predStrengths - 分类器的预测强度\n",
    "    classLabels - 标签列表\n",
    "Returns:\n",
    "    无\n",
    "\"\"\"\n",
    "def plotROC(predStrengths, classLabels):\n",
    "    import matplotlib.pyplot as plt\n",
    "    cur = (1.0,1.0)     #绘制光标的位置\n",
    "    ySum = 0.0          #用于计算AUC\n",
    "    numPosClas = sum(np.array(classLabels)==1.0)    #统计正类的数量\n",
    "    yStep = 1/float(numPosClas)                     #确定y轴的步长:TP/(TP+FN)\n",
    "    xStep = 1/float(len(classLabels)-numPosClas)    #确定x轴的步长：FP/(FP+TN)\n",
    "    sortedIndicies = predStrengths.argsort()        #得到排序索引\n",
    "    fig = plt.figure()                              #构建画笔\n",
    "    fig.clf()\n",
    "    ax = plt.subplot(111)\n",
    "    for index in sortedIndicies.tolist()[0]:        #在所有排序值上进行循环\n",
    "        if classLabels[index] == 1.0:\n",
    "            delX = 0; delY = yStep                  #每得到一个正类，就沿着y轴方向下降一个步长，不断降低真阳率\n",
    "        else:\n",
    "            delX =xStep; delY=0                     #其他类就沿着x轴方向倒退一个步长\n",
    "            ySum += cur[1]                          #计算面积是小矩形的宽度是xStep，高度累加\n",
    "        ax.plot([cur[0],cur[0]-delX],[cur[1],cur[1]-delY],c='b')\n",
    "        cur = (cur[0]-delX,cur[1]-delY)\n",
    "    ax.plot([0,1],[0,1],'b--')\n",
    "    plt.xlabel('False Positive Rate'); plt.ylabel('True Positive Rate')\n",
    "    plt.title('ROC curve for AdaBoost Horse Colic Detection System')\n",
    "    ax.axis([0,1,0,1])\n",
    "    plt.show()\n",
    "    print('the Area Under the Curve is: ', ySum*xStep)      #计算AUC\n"
   ]
  },
  {
   "cell_type": "code",
   "execution_count": 99,
   "metadata": {},
   "outputs": [
    {
     "data": {
      "image/png": "[encoded data removed]",
      "text/plain": [
       "<Figure size 432x288 with 1 Axes>"
      ]
     },
     "metadata": {},
     "output_type": "display_data"
    },
    {
     "name": "stdout",
     "output_type": "stream",
     "text": [
      "the Area Under the Curve is:  0.8582969635063604\n"
     ]
    }
   ],
   "source": [
    "plotROC(aggClassEst.T, labelMat)"
   ]
  }
 ],
 "metadata": {
  "kernelspec": {
   "display_name": "Python 3",
   "language": "python",
   "name": "python3"
  },
  "language_info": {
   "codemirror_mode": {
    "name": "ipython",
    "version": 3
   },
   "file_extension": ".py",
   "mimetype": "text/x-python",
   "name": "python",
   "nbconvert_exporter": "python",
   "pygments_lexer": "ipython3",
   "version": "3.6.5"
  }
 },
 "nbformat": 4,
 "nbformat_minor": 2
}
