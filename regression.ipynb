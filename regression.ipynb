{
 "cells": [
  {
   "cell_type": "markdown",
   "metadata": {},
   "source": [
    "### 回归的一般方法\n",
    "（1）收集数据：可以使用任意方法。  \n",
    "（2）准备数据：回归需要数值型数据，标称型数据将被转成二值型数据。  \n",
    "（3）分析数据：绘出数据的可视化二维图将有助于对数据做出理解和分析，在采用缩减法求得新回归系数之后，可以将新拟合线绘在图上做对比。  \n",
    "（4）训练算法：找到回归系数。  \n",
    "（5）测试算法：使用R2或者预测值和数据的拟合度，来分析模型的效果。  \n",
    "（6）使用算法：使用回归，可以在给定输入的时候预测出一个数值，这是对分类方法的提升，因为这样可以预测连续型数据而不仅仅是离散的类别标签。"
   ]
  },
  {
   "cell_type": "code",
   "execution_count": 1,
   "metadata": {},
   "outputs": [],
   "source": [
    "import numpy as np\n",
    "\n",
    "\"\"\"\n",
    "函数说明:自适应数据加载函数\n",
    "\n",
    "Parameters:\n",
    "    fileName - 文件名\n",
    "Returns:\n",
    "    dataMat- 数据集\n",
    "    labelMat- 标签列表\n",
    "\"\"\"\n",
    "def loadDataSet(fileName):\n",
    "    numFeat = len(open(fileName).readline().split('\\t'))    #获取特征数目\n",
    "    dataMat = []; labelMat = []\n",
    "    fr = open(fileName) #打开文件\n",
    "    for line in fr.readlines(): #逐行读取\n",
    "        lineArr = []\n",
    "        curLine = line.strip().split('\\t')  #去掉回车，放入列表\n",
    "        for i in range(numFeat-1):\n",
    "            lineArr.append(float(curLine[i]))\n",
    "        dataMat.append(lineArr) #添加数据\n",
    "        labelMat.append(float(curLine[-1])) #添加标签\n",
    "    return dataMat,labelMat"
   ]
  },
  {
   "cell_type": "code",
   "execution_count": 2,
   "metadata": {},
   "outputs": [],
   "source": [
    "\"\"\"\n",
    "函数说明:计算最佳拟合曲线\n",
    "\n",
    "Parameters:\n",
    "    xArr - x数据集\n",
    "    yArr - y数据集\n",
    "Returns:\n",
    "    ws - 回归系数\n",
    "\"\"\"\n",
    "def standRegres(xArr, yArr):\n",
    "    xMat = np.mat(xArr); yMat = np.mat(yArr).T  #将x和y数据集转换为numpy矩阵\n",
    "    xTx = xMat.T*xMat   #根据公式求回归系数\n",
    "    if np.linalg.det(xTx) == 0.0:   #若矩阵的行列式等于0，则矩阵不可逆\n",
    "        print(\"This matrix is singular, cannot do inverse\")\n",
    "        return\n",
    "    ws = xTx.I*(xMat.T*yMat)    #根据公式求得回归系数\n",
    "    return ws"
   ]
  },
  {
   "cell_type": "code",
   "execution_count": 3,
   "metadata": {},
   "outputs": [],
   "source": [
    "\"\"\"\n",
    "函数说明:使用局部加权回归方法计算回归系数\n",
    "\n",
    "Parameters:\n",
    "    testPoint - 测试样本点\n",
    "    xArr - x数据集\n",
    "    yArr - y数据集\n",
    "    k - 高斯核的k，自定义系数\n",
    "Returns:\n",
    "    testPoint*ws - 回归系数\n",
    "\"\"\"\n",
    "def lwlr(testPoint, xArr, yArr, k=1.0):\n",
    "    xMat = np.mat(xArr); yMat = np.mat(yArr)    #读入数据并创建矩阵\n",
    "    m = np.shape(xMat)[0]       #获得样本个数\n",
    "    weights = np.mat(np.eye((m)))   #创建对角矩阵\n",
    "    for j in range(m):      #权重值大小以指数级衰减\n",
    "        diffMat = testPoint - xMat[j,:]\n",
    "        weights[j,j] = np.exp(diffMat*diffMat.T/(-2.0*k**2))\n",
    "    xTx = xMat.T*(weights*xMat)     #根据公式计算回归系数\n",
    "    if np.linalg.det(xTx)==0.0:\n",
    "        print(\"This matrix is singular, cannot do inverse\")\n",
    "        return\n",
    "    ws = xTx.I*(xMat.T*(weights*yMat.T))\n",
    "    return testPoint*ws"
   ]
  },
  {
   "cell_type": "code",
   "execution_count": 4,
   "metadata": {},
   "outputs": [],
   "source": [
    "\"\"\"\n",
    "函数说明:局部线性加权回归测试\n",
    "\n",
    "Parameters:\n",
    "    testArr - 测试数据集\n",
    "    xArr - x数据集\n",
    "    yArr - y数据集\n",
    "    k - 高斯核的k，自定义系数\n",
    "Returns:\n",
    "    testPoint*ws - 回归系数\n",
    "\"\"\"\n",
    "def lwlrTest(testArr,xArr,yArr,k=1.0):\n",
    "    m = np.shape(testArr)[0]    #返回测试数据集的大小\n",
    "    yHat = np.zeros(m)\n",
    "    for i in range(m):      #对每个样本点进行预测\n",
    "        yHat[i] = lwlr(testArr[i],xArr,yArr,k)\n",
    "    return yHat"
   ]
  },
  {
   "cell_type": "code",
   "execution_count": 5,
   "metadata": {},
   "outputs": [],
   "source": [
    "\"\"\"\n",
    "函数说明:计算平方误差\n",
    "\n",
    "Parameters:\n",
    "    yArr - 实际值\n",
    "    yHatArr - 预测值\n",
    "Returns:\n",
    "    平方误差\n",
    "\"\"\"\n",
    "def rssError(yArr, yHatArr):\n",
    "    return ((yArr-yHatArr)**2).sum()"
   ]
  },
  {
   "cell_type": "code",
   "execution_count": 6,
   "metadata": {},
   "outputs": [],
   "source": [
    "#预测鲍鱼的年龄\n",
    "abX,abY = loadDataSet(\"data\\\\abalone.txt\")\n",
    "yHat01 = lwlrTest(abX[0:99],abX[0:99],abY[0:99],0.1)\n",
    "yHat1 = lwlrTest(abX[0:99], abX[0:99], abY[0:99], 1)\n",
    "yHat10 = lwlrTest(abX[0:99], abX[0:99], abY[0:99], 10)"
   ]
  },
  {
   "cell_type": "code",
   "execution_count": 7,
   "metadata": {},
   "outputs": [
    {
     "data": {
      "text/plain": [
       "56.788687430500921"
      ]
     },
     "execution_count": 7,
     "metadata": {},
     "output_type": "execute_result"
    }
   ],
   "source": [
    "rssError(abY[0:99],yHat01.T)"
   ]
  },
  {
   "cell_type": "code",
   "execution_count": 8,
   "metadata": {},
   "outputs": [
    {
     "data": {
      "text/plain": [
       "429.89056187038"
      ]
     },
     "execution_count": 8,
     "metadata": {},
     "output_type": "execute_result"
    }
   ],
   "source": [
    "rssError(abY[0:99],yHat1.T)"
   ]
  },
  {
   "cell_type": "code",
   "execution_count": 9,
   "metadata": {},
   "outputs": [
    {
     "data": {
      "text/plain": [
       "549.11817088279236"
      ]
     },
     "execution_count": 9,
     "metadata": {},
     "output_type": "execute_result"
    }
   ],
   "source": [
    "rssError(abY[0:99],yHat10.T)"
   ]
  },
  {
   "cell_type": "markdown",
   "metadata": {},
   "source": [
    "由上述结果可知，使用较小的核可以得到较低的误差。但是使用较小的核将造成过拟合。"
   ]
  },
  {
   "cell_type": "code",
   "execution_count": 13,
   "metadata": {},
   "outputs": [
    {
     "data": {
      "text/plain": [
       "57913.515501559108"
      ]
     },
     "execution_count": 13,
     "metadata": {},
     "output_type": "execute_result"
    }
   ],
   "source": [
    "yHat01 = lwlrTest(abX[100:199],abX[0:99],abY[0:99],0.1)\n",
    "rssError(abY[100:199],yHat01.T)"
   ]
  },
  {
   "cell_type": "code",
   "execution_count": 12,
   "metadata": {},
   "outputs": [
    {
     "data": {
      "text/plain": [
       "573.5261441895982"
      ]
     },
     "execution_count": 12,
     "metadata": {},
     "output_type": "execute_result"
    }
   ],
   "source": [
    "yHat1 = lwlrTest(abX[100:199],abX[0:99],abY[0:99],1)\n",
    "rssError(abY[100:199],yHat1.T)"
   ]
  },
  {
   "cell_type": "code",
   "execution_count": 14,
   "metadata": {},
   "outputs": [
    {
     "data": {
      "text/plain": [
       "517.57119053819031"
      ]
     },
     "execution_count": 14,
     "metadata": {},
     "output_type": "execute_result"
    }
   ],
   "source": [
    "yHat10 = lwlrTest(abX[100:199],abX[0:99],abY[0:99],10)\n",
    "rssError(abY[100:199],yHat10.T)"
   ]
  },
  {
   "cell_type": "markdown",
   "metadata": {},
   "source": [
    "核大小为10时测试误差最小，但是在训练集上的误差却是最大的。"
   ]
  },
  {
   "cell_type": "code",
   "execution_count": 15,
   "metadata": {},
   "outputs": [],
   "source": [
    "ws = standRegres(abX[0:99],abY[0:99])\n",
    "yHat = np.mat(abX[100:199])*ws"
   ]
  },
  {
   "cell_type": "code",
   "execution_count": 16,
   "metadata": {},
   "outputs": [
    {
     "data": {
      "text/plain": [
       "518.63631532455418"
      ]
     },
     "execution_count": 16,
     "metadata": {},
     "output_type": "execute_result"
    }
   ],
   "source": [
    "rssError(abY[100:199],yHat.T.A)"
   ]
  },
  {
   "cell_type": "markdown",
   "metadata": {},
   "source": [
    "简单线性回归达到了与局部加权线性回归类似的效果。表明必须在未知数据上比较效果才能选取最佳模型。"
   ]
  }
 ],
 "metadata": {
  "kernelspec": {
   "display_name": "Python 3",
   "language": "python",
   "name": "python3"
  },
  "language_info": {
   "codemirror_mode": {
    "name": "ipython",
    "version": 3
   },
   "file_extension": ".py",
   "mimetype": "text/x-python",
   "name": "python",
   "nbconvert_exporter": "python",
   "pygments_lexer": "ipython3",
   "version": "3.6.5"
  }
 },
 "nbformat": 4,
 "nbformat_minor": 2
}
